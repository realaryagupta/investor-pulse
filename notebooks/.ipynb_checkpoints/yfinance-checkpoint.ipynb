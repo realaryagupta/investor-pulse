{
 "cells": [
  {
   "cell_type": "code",
   "execution_count": 4,
   "id": "5541d351-b937-45b4-969a-3defa86d53bc",
   "metadata": {},
   "outputs": [],
   "source": [
    "import yfinance as yf\n",
    "import pandas as pd"
   ]
  },
  {
   "cell_type": "code",
   "execution_count": 5,
   "id": "ff4ee409-5560-4cc5-a8f9-3e2cf42d062f",
   "metadata": {},
   "outputs": [
    {
     "name": "stdout",
     "output_type": "stream",
     "text": [
      "currently downloading TSLA\n",
      "YF.download() has changed argument auto_adjust default to True\n"
     ]
    },
    {
     "name": "stderr",
     "output_type": "stream",
     "text": [
      "[*********************100%***********************]  1 of 1 completed\n"
     ]
    },
    {
     "name": "stdout",
     "output_type": "stream",
     "text": [
      "currently downloading APPL\n"
     ]
    },
    {
     "name": "stderr",
     "output_type": "stream",
     "text": [
      "[*********************100%***********************]  1 of 1 completed\n",
      "\n",
      "1 Failed download:\n",
      "['APPL']: YFPricesMissingError('possibly delisted; no price data found  (1d 2025-01-01 -> 2025-06-01)')\n"
     ]
    },
    {
     "name": "stdout",
     "output_type": "stream",
     "text": [
      "currently downloading MSFT\n"
     ]
    },
    {
     "name": "stderr",
     "output_type": "stream",
     "text": [
      "[*********************100%***********************]  1 of 1 completed\n"
     ]
    },
    {
     "name": "stdout",
     "output_type": "stream",
     "text": [
      "currently downloading GOOGL\n"
     ]
    },
    {
     "name": "stderr",
     "output_type": "stream",
     "text": [
      "[*********************100%***********************]  1 of 1 completed\n"
     ]
    },
    {
     "name": "stdout",
     "output_type": "stream",
     "text": [
      "currently downloading AMZN\n"
     ]
    },
    {
     "name": "stderr",
     "output_type": "stream",
     "text": [
      "[*********************100%***********************]  1 of 1 completed\n"
     ]
    }
   ],
   "source": [
    "tickers = ['TSLA', 'APPL', 'MSFT', 'GOOGL', 'AMZN']\n",
    "\n",
    "start_date = '2025-01-01'\n",
    "end_date = '2025-06-01'\n",
    "\n",
    "stock_data = {}\n",
    "\n",
    "for ticker in tickers:\n",
    "    print(f\"currently downloading {ticker}\")\n",
    "    data = yf.download(ticker, start = start_date, end = end_date)\n",
    "\n",
    "    data = data[['Open', 'High', 'Low', 'Close', 'Volume']]\n",
    "\n",
    "    data.reset_index(inplace = True)\n",
    "    stock_data[ticker] = data"
   ]
  },
  {
   "cell_type": "code",
   "execution_count": 7,
   "id": "ff75c75b-6fd5-4a45-a1a6-f40178e75773",
   "metadata": {},
   "outputs": [],
   "source": [
    "for ticker, df in stock_data.items():\n",
    "    df.to_csv(f\"{ticker}_daily_2025.csv\", index=False)"
   ]
  },
  {
   "cell_type": "code",
   "execution_count": 9,
   "id": "d9f17d02-8246-4d25-ab17-acfe9196530a",
   "metadata": {},
   "outputs": [],
   "source": [
    "data = pd.read_csv(\"AMZN_daily_2025.csv\")"
   ]
  },
  {
   "cell_type": "code",
   "execution_count": 10,
   "id": "e75623a6-2746-4cee-a2e4-7ae47d69cff8",
   "metadata": {},
   "outputs": [
    {
     "data": {
      "text/html": [
       "<div>\n",
       "<style scoped>\n",
       "    .dataframe tbody tr th:only-of-type {\n",
       "        vertical-align: middle;\n",
       "    }\n",
       "\n",
       "    .dataframe tbody tr th {\n",
       "        vertical-align: top;\n",
       "    }\n",
       "\n",
       "    .dataframe thead th {\n",
       "        text-align: right;\n",
       "    }\n",
       "</style>\n",
       "<table border=\"1\" class=\"dataframe\">\n",
       "  <thead>\n",
       "    <tr style=\"text-align: right;\">\n",
       "      <th></th>\n",
       "      <th>Date</th>\n",
       "      <th>Open</th>\n",
       "      <th>High</th>\n",
       "      <th>Low</th>\n",
       "      <th>Close</th>\n",
       "      <th>Volume</th>\n",
       "    </tr>\n",
       "  </thead>\n",
       "  <tbody>\n",
       "    <tr>\n",
       "      <th>12</th>\n",
       "      <td>2025-01-21</td>\n",
       "      <td>228.89999389648438</td>\n",
       "      <td>231.77999877929688</td>\n",
       "      <td>226.94000244140625</td>\n",
       "      <td>230.7100067138672</td>\n",
       "      <td>39951500</td>\n",
       "    </tr>\n",
       "    <tr>\n",
       "      <th>26</th>\n",
       "      <td>2025-02-10</td>\n",
       "      <td>230.5500030517578</td>\n",
       "      <td>233.9199981689453</td>\n",
       "      <td>229.1999969482422</td>\n",
       "      <td>233.13999938964844</td>\n",
       "      <td>35419900</td>\n",
       "    </tr>\n",
       "    <tr>\n",
       "      <th>89</th>\n",
       "      <td>2025-05-12</td>\n",
       "      <td>210.7100067138672</td>\n",
       "      <td>211.66000366210938</td>\n",
       "      <td>205.75</td>\n",
       "      <td>208.63999938964844</td>\n",
       "      <td>75205000</td>\n",
       "    </tr>\n",
       "    <tr>\n",
       "      <th>67</th>\n",
       "      <td>2025-04-09</td>\n",
       "      <td>172.1199951171875</td>\n",
       "      <td>192.64999389648438</td>\n",
       "      <td>169.92999267578125</td>\n",
       "      <td>191.10000610351562</td>\n",
       "      <td>116804300</td>\n",
       "    </tr>\n",
       "    <tr>\n",
       "      <th>18</th>\n",
       "      <td>2025-01-29</td>\n",
       "      <td>239.02000427246094</td>\n",
       "      <td>240.38999938964844</td>\n",
       "      <td>236.14999389648438</td>\n",
       "      <td>237.07000732421875</td>\n",
       "      <td>26091700</td>\n",
       "    </tr>\n",
       "  </tbody>\n",
       "</table>\n",
       "</div>"
      ],
      "text/plain": [
       "          Date                Open                High                 Low  \\\n",
       "12  2025-01-21  228.89999389648438  231.77999877929688  226.94000244140625   \n",
       "26  2025-02-10   230.5500030517578   233.9199981689453   229.1999969482422   \n",
       "89  2025-05-12   210.7100067138672  211.66000366210938              205.75   \n",
       "67  2025-04-09   172.1199951171875  192.64999389648438  169.92999267578125   \n",
       "18  2025-01-29  239.02000427246094  240.38999938964844  236.14999389648438   \n",
       "\n",
       "                 Close     Volume  \n",
       "12   230.7100067138672   39951500  \n",
       "26  233.13999938964844   35419900  \n",
       "89  208.63999938964844   75205000  \n",
       "67  191.10000610351562  116804300  \n",
       "18  237.07000732421875   26091700  "
      ]
     },
     "execution_count": 10,
     "metadata": {},
     "output_type": "execute_result"
    }
   ],
   "source": [
    "data.sample(5)"
   ]
  },
  {
   "cell_type": "code",
   "execution_count": null,
   "id": "f9b1f08f-58b9-4a5d-be90-ec58bc037a77",
   "metadata": {},
   "outputs": [],
   "source": []
  }
 ],
 "metadata": {
  "kernelspec": {
   "display_name": "Python 3 (ipykernel)",
   "language": "python",
   "name": "python3"
  },
  "language_info": {
   "codemirror_mode": {
    "name": "ipython",
    "version": 3
   },
   "file_extension": ".py",
   "mimetype": "text/x-python",
   "name": "python",
   "nbconvert_exporter": "python",
   "pygments_lexer": "ipython3",
   "version": "3.12.9"
  }
 },
 "nbformat": 4,
 "nbformat_minor": 5
}
