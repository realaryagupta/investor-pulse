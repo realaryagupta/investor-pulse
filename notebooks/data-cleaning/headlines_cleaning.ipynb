{
 "cells": [
  {
   "cell_type": "code",
   "execution_count": 55,
   "id": "537c94f0-ce3b-4509-a57e-d77b0116c571",
   "metadata": {},
   "outputs": [],
   "source": [
    "import pandas as pd\n",
    "from langdetect import detect, LangDetectException\n",
    "import re\n",
    "import string\n",
    "import warnings\n",
    "warnings.filterwarnings('ignore')"
   ]
  },
  {
   "cell_type": "code",
   "execution_count": 56,
   "id": "0fe2d772-6753-4ebe-8593-3d260e6b77af",
   "metadata": {},
   "outputs": [],
   "source": [
    "google = pd.read_csv(\"../../data/scraped-data/scraped-google-headlines.csv\")\n",
    "google.drop('Unnamed: 0', axis = 1, inplace = True)"
   ]
  },
  {
   "cell_type": "code",
   "execution_count": 57,
   "id": "679a7f22-b5d3-4198-8b03-2cf4e104d707",
   "metadata": {},
   "outputs": [],
   "source": [
    "microsoft = pd.read_csv(\"../../data/scraped-data/scraped-microsoft-headlines.csv\")\n",
    "microsoft.drop('Unnamed: 0', axis = 1, inplace = True)"
   ]
  },
  {
   "cell_type": "code",
   "execution_count": 58,
   "id": "042ca76e-e020-433f-b756-e9e89e9189e9",
   "metadata": {},
   "outputs": [],
   "source": [
    "apple = pd.read_csv(\"../../data/scraped-data/scraped-apple-headlines.csv\")\n",
    "apple.drop('Unnamed: 0', axis = 1, inplace = True)"
   ]
  },
  {
   "cell_type": "code",
   "execution_count": 59,
   "id": "6f1b7bb0-e2fc-45fe-9ae3-89d50cc545f6",
   "metadata": {},
   "outputs": [],
   "source": [
    "nvidia = pd.read_csv(\"../../data/scraped-data/scraped-nvidia-headlines.csv\")\n",
    "nvidia.drop('Unnamed: 0', axis = 1, inplace = True)"
   ]
  },
  {
   "cell_type": "code",
   "execution_count": 60,
   "id": "907d7bb0-2da1-4fcf-82d2-df605324c6bd",
   "metadata": {},
   "outputs": [],
   "source": [
    "amazon = pd.read_csv(\"../../data/scraped-data/scraped-amazon-headlines.csv\")\n",
    "amazon.drop('Unnamed: 0', axis = 1, inplace = True)"
   ]
  },
  {
   "cell_type": "code",
   "execution_count": 61,
   "id": "e8360701-82c8-4821-8539-04d04c3e1d85",
   "metadata": {},
   "outputs": [
    {
     "data": {
      "text/html": [
       "<div>\n",
       "<style scoped>\n",
       "    .dataframe tbody tr th:only-of-type {\n",
       "        vertical-align: middle;\n",
       "    }\n",
       "\n",
       "    .dataframe tbody tr th {\n",
       "        vertical-align: top;\n",
       "    }\n",
       "\n",
       "    .dataframe thead th {\n",
       "        text-align: right;\n",
       "    }\n",
       "</style>\n",
       "<table border=\"1\" class=\"dataframe\">\n",
       "  <thead>\n",
       "    <tr style=\"text-align: right;\">\n",
       "      <th></th>\n",
       "      <th>headline</th>\n",
       "      <th>date</th>\n",
       "      <th>company</th>\n",
       "    </tr>\n",
       "  </thead>\n",
       "  <tbody>\n",
       "    <tr>\n",
       "      <th>0</th>\n",
       "      <td>Bill Nygren's Strategic Moves: Constellation B...</td>\n",
       "      <td>2025-05-29 23:06:31+00:00</td>\n",
       "      <td>GOOGL</td>\n",
       "    </tr>\n",
       "    <tr>\n",
       "      <th>1</th>\n",
       "      <td>Wall Street w górę po decyzji sądu w sprawie ceł</td>\n",
       "      <td>2025-05-29 22:29:54+00:00</td>\n",
       "      <td>GOOGL</td>\n",
       "    </tr>\n",
       "    <tr>\n",
       "      <th>2</th>\n",
       "      <td>〈美股盤後〉美上訴法院暫時恢復川普關稅 輝達領漲標普收紅</td>\n",
       "      <td>2025-05-29 21:36:15+00:00</td>\n",
       "      <td>GOOGL</td>\n",
       "    </tr>\n",
       "    <tr>\n",
       "      <th>3</th>\n",
       "      <td>S&amp;P 500 Gains and Losses Today: HP, Best Buy S...</td>\n",
       "      <td>2025-05-29 20:55:21+00:00</td>\n",
       "      <td>GOOGL</td>\n",
       "    </tr>\n",
       "    <tr>\n",
       "      <th>4</th>\n",
       "      <td>Google To Launch Direct Sales and Physical Sto...</td>\n",
       "      <td>2025-05-29 17:30:18+00:00</td>\n",
       "      <td>GOOGL</td>\n",
       "    </tr>\n",
       "    <tr>\n",
       "      <th>...</th>\n",
       "      <td>...</td>\n",
       "      <td>...</td>\n",
       "      <td>...</td>\n",
       "    </tr>\n",
       "    <tr>\n",
       "      <th>293</th>\n",
       "      <td>3 Tech Stocks Destined to Drive Wealth Now and...</td>\n",
       "      <td>2025-05-18 12:00:00+00:00</td>\n",
       "      <td>GOOGL</td>\n",
       "    </tr>\n",
       "    <tr>\n",
       "      <th>294</th>\n",
       "      <td>Alphabet (GOOG) Stock Rated ‘Buy’ as Chrome Ga...</td>\n",
       "      <td>2025-05-18 11:03:11+00:00</td>\n",
       "      <td>GOOGL</td>\n",
       "    </tr>\n",
       "    <tr>\n",
       "      <th>295</th>\n",
       "      <td>Alphabet (GOOGL) Hits 150M Subscribers on Goog...</td>\n",
       "      <td>2025-05-18 11:00:38+00:00</td>\n",
       "      <td>GOOGL</td>\n",
       "    </tr>\n",
       "    <tr>\n",
       "      <th>296</th>\n",
       "      <td>Trump tariff uncertainty still makes earnings ...</td>\n",
       "      <td>2025-05-18 10:00:23+00:00</td>\n",
       "      <td>GOOGL</td>\n",
       "    </tr>\n",
       "    <tr>\n",
       "      <th>297</th>\n",
       "      <td>Alphabet Stock: Buy More The Best AI Play At A...</td>\n",
       "      <td>2025-05-18 08:25:51+00:00</td>\n",
       "      <td>GOOGL</td>\n",
       "    </tr>\n",
       "  </tbody>\n",
       "</table>\n",
       "<p>298 rows × 3 columns</p>\n",
       "</div>"
      ],
      "text/plain": [
       "                                              headline  \\\n",
       "0    Bill Nygren's Strategic Moves: Constellation B...   \n",
       "1     Wall Street w górę po decyzji sądu w sprawie ceł   \n",
       "2                         〈美股盤後〉美上訴法院暫時恢復川普關稅 輝達領漲標普收紅   \n",
       "3    S&P 500 Gains and Losses Today: HP, Best Buy S...   \n",
       "4    Google To Launch Direct Sales and Physical Sto...   \n",
       "..                                                 ...   \n",
       "293  3 Tech Stocks Destined to Drive Wealth Now and...   \n",
       "294  Alphabet (GOOG) Stock Rated ‘Buy’ as Chrome Ga...   \n",
       "295  Alphabet (GOOGL) Hits 150M Subscribers on Goog...   \n",
       "296  Trump tariff uncertainty still makes earnings ...   \n",
       "297  Alphabet Stock: Buy More The Best AI Play At A...   \n",
       "\n",
       "                          date company  \n",
       "0    2025-05-29 23:06:31+00:00   GOOGL  \n",
       "1    2025-05-29 22:29:54+00:00   GOOGL  \n",
       "2    2025-05-29 21:36:15+00:00   GOOGL  \n",
       "3    2025-05-29 20:55:21+00:00   GOOGL  \n",
       "4    2025-05-29 17:30:18+00:00   GOOGL  \n",
       "..                         ...     ...  \n",
       "293  2025-05-18 12:00:00+00:00   GOOGL  \n",
       "294  2025-05-18 11:03:11+00:00   GOOGL  \n",
       "295  2025-05-18 11:00:38+00:00   GOOGL  \n",
       "296  2025-05-18 10:00:23+00:00   GOOGL  \n",
       "297  2025-05-18 08:25:51+00:00   GOOGL  \n",
       "\n",
       "[298 rows x 3 columns]"
      ]
     },
     "execution_count": 61,
     "metadata": {},
     "output_type": "execute_result"
    }
   ],
   "source": [
    "google"
   ]
  },
  {
   "cell_type": "code",
   "execution_count": 62,
   "id": "d0f74e1d-2fb7-4734-892c-65c0ada0927f",
   "metadata": {},
   "outputs": [
    {
     "name": "stdout",
     "output_type": "stream",
     "text": [
      "0\n",
      "0\n",
      "0\n",
      "0\n",
      "0\n"
     ]
    }
   ],
   "source": [
    "print(google.duplicated(subset=['headline','date']).sum())\n",
    "print(nvidia.duplicated(subset=['headline','date']).sum())\n",
    "print(apple.duplicated(subset=['headline','date']).sum())\n",
    "print(microsoft.duplicated(subset=['headline','date']).sum())\n",
    "print(amazon.duplicated(subset=['headline','date']).sum())"
   ]
  },
  {
   "cell_type": "code",
   "execution_count": 63,
   "id": "c450ba31-27eb-4949-99a9-4a00fb2bdae0",
   "metadata": {},
   "outputs": [],
   "source": [
    "google['date'] = pd.to_datetime(google['date'])\n",
    "nvidia['date'] = pd.to_datetime(nvidia['date'])\n",
    "apple['date'] = pd.to_datetime(apple['date'])\n",
    "microsoft['date'] = pd.to_datetime(microsoft['date'])\n",
    "amazon['date'] = pd.to_datetime(amazon['date'])"
   ]
  },
  {
   "cell_type": "code",
   "execution_count": 64,
   "id": "03f89236-3334-4c35-857d-0b839c000f3f",
   "metadata": {},
   "outputs": [
    {
     "name": "stdout",
     "output_type": "stream",
     "text": [
      "<class 'pandas.core.frame.DataFrame'>\n",
      "RangeIndex: 295 entries, 0 to 294\n",
      "Data columns (total 3 columns):\n",
      " #   Column    Non-Null Count  Dtype              \n",
      "---  ------    --------------  -----              \n",
      " 0   headline  295 non-null    object             \n",
      " 1   date      295 non-null    datetime64[ns, UTC]\n",
      " 2   company   295 non-null    object             \n",
      "dtypes: datetime64[ns, UTC](1), object(2)\n",
      "memory usage: 7.0+ KB\n"
     ]
    }
   ],
   "source": [
    "amazon.info()"
   ]
  },
  {
   "cell_type": "code",
   "execution_count": 65,
   "id": "afe4cf00-53ac-48ed-8fb1-80e1d2005525",
   "metadata": {},
   "outputs": [],
   "source": [
    "google['date'] = google['date'].dt.date\n",
    "nvidia['date'] = nvidia['date'].dt.date\n",
    "apple['date'] = apple['date'].dt.date\n",
    "microsoft['date'] = microsoft['date'].dt.date\n",
    "amazon['date'] = amazon['date'].dt.date"
   ]
  },
  {
   "cell_type": "code",
   "execution_count": 66,
   "id": "feb995d4-9c25-4cd2-b035-f9de33975e88",
   "metadata": {},
   "outputs": [],
   "source": [
    "def is_english(text):\n",
    "    try:\n",
    "        return detect(str(text)) == 'en'\n",
    "    except (LangDetectException, TypeError):\n",
    "        return False\n",
    "\n",
    "def clean_text(text):\n",
    "    if pd.isnull(text):\n",
    "        return \"\"\n",
    "    text = text.lower()\n",
    "    text = re.sub(r'https?://\\S+|www\\.\\S+', '', text)\n",
    "    text = re.sub(r'<.*?>', '', text)\n",
    "    text = text.translate(str.maketrans('', '', string.punctuation))\n",
    "    text = re.sub(r'[^a-zA-Z0-9\\s]', '', text)\n",
    "    text = re.sub(r'\\s+', ' ', text)\n",
    "    text = text.strip()\n",
    "    return text\n",
    "\n",
    "for df in [google, nvidia, apple, microsoft, amazon]:\n",
    "    df = df[df['headline'].apply(is_english)]\n",
    "    df['cleaned_headline'] = df['headline'].apply(clean_text)"
   ]
  },
  {
   "cell_type": "code",
   "execution_count": 67,
   "id": "2b90d0f6-533e-4220-a705-e7950c731885",
   "metadata": {},
   "outputs": [],
   "source": [
    "google = google[google['headline'].apply(is_english)]\n",
    "google['cleaned_headline'] = google['headline'].apply(clean_text)\n",
    "\n",
    "nvidia = nvidia[nvidia['headline'].apply(is_english)]\n",
    "nvidia['cleaned_headline'] = nvidia['headline'].apply(clean_text)\n",
    "\n",
    "apple = apple[apple['headline'].apply(is_english)]\n",
    "apple['cleaned_headline'] = apple['headline'].apply(clean_text)\n",
    "\n",
    "microsoft = microsoft[microsoft['headline'].apply(is_english)]\n",
    "microsoft['cleaned_headline'] = microsoft['headline'].apply(clean_text)\n",
    "\n",
    "amazon = amazon[amazon['headline'].apply(is_english)]\n",
    "amazon['cleaned_headline'] = amazon['headline'].apply(clean_text)"
   ]
  },
  {
   "cell_type": "code",
   "execution_count": 68,
   "id": "f6ba2b89-443b-41a1-88a3-83d28e839557",
   "metadata": {},
   "outputs": [],
   "source": [
    "google.drop('headline', axis=1, inplace=True)\n",
    "nvidia.drop('headline', axis=1, inplace=True)\n",
    "apple.drop('headline', axis=1, inplace=True)\n",
    "microsoft.drop('headline', axis=1, inplace=True)\n",
    "amazon.drop('headline', axis=1, inplace=True)"
   ]
  },
  {
   "cell_type": "code",
   "execution_count": 70,
   "id": "cae624dc-63f0-47c5-8a9f-d978919f89fa",
   "metadata": {},
   "outputs": [],
   "source": [
    "google.to_csv('../../data/clean-data/google_clean_headlines.csv', index=False)\n",
    "nvidia.to_csv('../../data/clean-data/nvidia_clean_headlines.csv', index=False)\n",
    "apple.to_csv('../../data/clean-data/apple_clean_headlines.csv', index=False)\n",
    "microsoft.to_csv('../../data/clean-data/microsoft_clean_headlines.csv', index=False)\n",
    "amazon.to_csv('../../data/clean-data/amazon_clean_headlines.csv', index=False)"
   ]
  }
 ],
 "metadata": {
  "kernelspec": {
   "display_name": "Python 3 (ipykernel)",
   "language": "python",
   "name": "python3"
  },
  "language_info": {
   "codemirror_mode": {
    "name": "ipython",
    "version": 3
   },
   "file_extension": ".py",
   "mimetype": "text/x-python",
   "name": "python",
   "nbconvert_exporter": "python",
   "pygments_lexer": "ipython3",
   "version": "3.12.9"
  }
 },
 "nbformat": 4,
 "nbformat_minor": 5
}
