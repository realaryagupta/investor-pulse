{
 "cells": [
  {
   "cell_type": "code",
   "execution_count": 2,
   "id": "f14ab6a4-a7d9-4326-893e-e4a176c8a4cc",
   "metadata": {},
   "outputs": [],
   "source": [
    "import pandas as pd"
   ]
  },
  {
   "cell_type": "code",
   "execution_count": 37,
   "id": "96ff726b-9fe2-479a-a4d8-d92a5e163aeb",
   "metadata": {},
   "outputs": [],
   "source": [
    "data = pd.read_csv(\"../../data/clean-data/reddit-posts.csv\")"
   ]
  },
  {
   "cell_type": "code",
   "execution_count": 38,
   "id": "edf5f3b0-6baf-41f6-965e-ad23968e450c",
   "metadata": {},
   "outputs": [],
   "source": [
    "data.drop(['Unnamed: 0', 'full_text'], axis = 1, inplace = True)"
   ]
  },
  {
   "cell_type": "code",
   "execution_count": 39,
   "id": "963ca4ed-a6a6-4fe4-aa94-93b5d2643b9b",
   "metadata": {},
   "outputs": [
    {
     "data": {
      "text/html": [
       "<div>\n",
       "<style scoped>\n",
       "    .dataframe tbody tr th:only-of-type {\n",
       "        vertical-align: middle;\n",
       "    }\n",
       "\n",
       "    .dataframe tbody tr th {\n",
       "        vertical-align: top;\n",
       "    }\n",
       "\n",
       "    .dataframe thead th {\n",
       "        text-align: right;\n",
       "    }\n",
       "</style>\n",
       "<table border=\"1\" class=\"dataframe\">\n",
       "  <thead>\n",
       "    <tr style=\"text-align: right;\">\n",
       "      <th></th>\n",
       "      <th>title</th>\n",
       "      <th>selftext</th>\n",
       "      <th>author</th>\n",
       "      <th>date</th>\n",
       "      <th>score</th>\n",
       "      <th>subreddit</th>\n",
       "      <th>tickers_mentioned</th>\n",
       "      <th>clean_text</th>\n",
       "    </tr>\n",
       "  </thead>\n",
       "  <tbody>\n",
       "    <tr>\n",
       "      <th>116</th>\n",
       "      <td>See you in Premarket NVDA bears</td>\n",
       "      <td>jobs not finished.</td>\n",
       "      <td>lilmutt32</td>\n",
       "      <td>2025-05-28 21:27:33</td>\n",
       "      <td>2821</td>\n",
       "      <td>wallstreetbets</td>\n",
       "      <td>['NVDA']</td>\n",
       "      <td>see you in premarket nvda bears jobs not finished</td>\n",
       "    </tr>\n",
       "    <tr>\n",
       "      <th>3</th>\n",
       "      <td>Investing is simple! It’s not hard at all!</td>\n",
       "      <td>Investing is simple as pie. I’ve only been inv...</td>\n",
       "      <td>general-ring2780</td>\n",
       "      <td>2025-04-28 01:31:28</td>\n",
       "      <td>0</td>\n",
       "      <td>investing</td>\n",
       "      <td>['NVDA']</td>\n",
       "      <td>investing is simple its not hard at all invest...</td>\n",
       "    </tr>\n",
       "    <tr>\n",
       "      <th>141</th>\n",
       "      <td>Wendys or McDonalds</td>\n",
       "      <td>Day 3 or something of posting my googl calls d...</td>\n",
       "      <td>microsofttothemoon</td>\n",
       "      <td>2025-06-03 23:24:01</td>\n",
       "      <td>55</td>\n",
       "      <td>wallstreetbets</td>\n",
       "      <td>['GOOGL']</td>\n",
       "      <td>wendys or mcdonalds day 3 or something of post...</td>\n",
       "    </tr>\n",
       "    <tr>\n",
       "      <th>56</th>\n",
       "      <td>Holding NVDA over weekend</td>\n",
       "      <td>To be honest with the Moody news it may look b...</td>\n",
       "      <td>hot-lengthiness1251</td>\n",
       "      <td>2025-05-16 22:05:05</td>\n",
       "      <td>30</td>\n",
       "      <td>wallstreetbets</td>\n",
       "      <td>['NVDA']</td>\n",
       "      <td>holding nvda over weekend to be honest with th...</td>\n",
       "    </tr>\n",
       "    <tr>\n",
       "      <th>31</th>\n",
       "      <td>Over the past 10 years, annual CEO pay increas...</td>\n",
       "      <td>That stat is a finding from research firm Equi...</td>\n",
       "      <td>barronsmag</td>\n",
       "      <td>2025-05-13 15:49:29</td>\n",
       "      <td>97</td>\n",
       "      <td>stocks</td>\n",
       "      <td>['AAPL', 'MSFT']</td>\n",
       "      <td>over the past 10 years annual ceo pay increase...</td>\n",
       "    </tr>\n",
       "  </tbody>\n",
       "</table>\n",
       "</div>"
      ],
      "text/plain": [
       "                                                 title  \\\n",
       "116                    See you in Premarket NVDA bears   \n",
       "3           Investing is simple! It’s not hard at all!   \n",
       "141                                Wendys or McDonalds   \n",
       "56                           Holding NVDA over weekend   \n",
       "31   Over the past 10 years, annual CEO pay increas...   \n",
       "\n",
       "                                              selftext               author  \\\n",
       "116                                jobs not finished.             lilmutt32   \n",
       "3    Investing is simple as pie. I’ve only been inv...     general-ring2780   \n",
       "141  Day 3 or something of posting my googl calls d...   microsofttothemoon   \n",
       "56   To be honest with the Moody news it may look b...  hot-lengthiness1251   \n",
       "31   That stat is a finding from research firm Equi...           barronsmag   \n",
       "\n",
       "                    date  score       subreddit tickers_mentioned  \\\n",
       "116  2025-05-28 21:27:33   2821  wallstreetbets          ['NVDA']   \n",
       "3    2025-04-28 01:31:28      0       investing          ['NVDA']   \n",
       "141  2025-06-03 23:24:01     55  wallstreetbets         ['GOOGL']   \n",
       "56   2025-05-16 22:05:05     30  wallstreetbets          ['NVDA']   \n",
       "31   2025-05-13 15:49:29     97          stocks  ['AAPL', 'MSFT']   \n",
       "\n",
       "                                            clean_text  \n",
       "116  see you in premarket nvda bears jobs not finished  \n",
       "3    investing is simple its not hard at all invest...  \n",
       "141  wendys or mcdonalds day 3 or something of post...  \n",
       "56   holding nvda over weekend to be honest with th...  \n",
       "31   over the past 10 years annual ceo pay increase...  "
      ]
     },
     "execution_count": 39,
     "metadata": {},
     "output_type": "execute_result"
    }
   ],
   "source": [
    "data.sample(5)"
   ]
  },
  {
   "cell_type": "code",
   "execution_count": 40,
   "id": "685525f6-ace2-43bc-b596-d8dc8211b405",
   "metadata": {},
   "outputs": [
    {
     "data": {
      "text/plain": [
       "title                 0\n",
       "selftext             14\n",
       "author                0\n",
       "date                  0\n",
       "score                 0\n",
       "subreddit             0\n",
       "tickers_mentioned     0\n",
       "clean_text            0\n",
       "dtype: int64"
      ]
     },
     "execution_count": 40,
     "metadata": {},
     "output_type": "execute_result"
    }
   ],
   "source": [
    "data.isna().sum()"
   ]
  },
  {
   "cell_type": "code",
   "execution_count": 41,
   "id": "28863988-04c9-4057-a770-6c18894af39e",
   "metadata": {},
   "outputs": [
    {
     "data": {
      "text/plain": [
       "np.int64(0)"
      ]
     },
     "execution_count": 41,
     "metadata": {},
     "output_type": "execute_result"
    }
   ],
   "source": [
    "data.duplicated().sum()"
   ]
  },
  {
   "cell_type": "code",
   "execution_count": 42,
   "id": "bb74dd34-d877-497f-ac5d-ff741ae0b2ba",
   "metadata": {},
   "outputs": [],
   "source": [
    "data['date'] = pd.to_datetime(data['date'])\n",
    "data['date'] = data['date'].dt.date"
   ]
  },
  {
   "cell_type": "code",
   "execution_count": 43,
   "id": "e6301978-78d8-4b20-a5c8-8dc1c6e6b205",
   "metadata": {},
   "outputs": [
    {
     "data": {
      "text/html": [
       "<div>\n",
       "<style scoped>\n",
       "    .dataframe tbody tr th:only-of-type {\n",
       "        vertical-align: middle;\n",
       "    }\n",
       "\n",
       "    .dataframe tbody tr th {\n",
       "        vertical-align: top;\n",
       "    }\n",
       "\n",
       "    .dataframe thead th {\n",
       "        text-align: right;\n",
       "    }\n",
       "</style>\n",
       "<table border=\"1\" class=\"dataframe\">\n",
       "  <thead>\n",
       "    <tr style=\"text-align: right;\">\n",
       "      <th></th>\n",
       "      <th>title</th>\n",
       "      <th>selftext</th>\n",
       "      <th>author</th>\n",
       "      <th>date</th>\n",
       "      <th>score</th>\n",
       "      <th>subreddit</th>\n",
       "      <th>tickers_mentioned</th>\n",
       "      <th>clean_text</th>\n",
       "    </tr>\n",
       "  </thead>\n",
       "  <tbody>\n",
       "    <tr>\n",
       "      <th>64</th>\n",
       "      <td>Lil baby gains $NVDA</td>\n",
       "      <td>Cashed out a little bit last week, but holding...</td>\n",
       "      <td>deep_inda_money</td>\n",
       "      <td>2025-05-19</td>\n",
       "      <td>92</td>\n",
       "      <td>wallstreetbets</td>\n",
       "      <td>['NVDA']</td>\n",
       "      <td>lil baby gains $nvda cashed out a little bit l...</td>\n",
       "    </tr>\n",
       "    <tr>\n",
       "      <th>94</th>\n",
       "      <td>Nvda (Nvidia) upcoming earnings will either pu...</td>\n",
       "      <td>The last few nvidia earnings have been okay, a...</td>\n",
       "      <td>daydreamer1015</td>\n",
       "      <td>2025-05-25</td>\n",
       "      <td>101</td>\n",
       "      <td>stocks</td>\n",
       "      <td>['NVDA']</td>\n",
       "      <td>nvda nvidia upcoming earnings will either pump...</td>\n",
       "    </tr>\n",
       "    <tr>\n",
       "      <th>47</th>\n",
       "      <td>These $132C NVDA shares gave me a head start 😅...</td>\n",
       "      <td>NaN</td>\n",
       "      <td>kujothecat</td>\n",
       "      <td>2025-05-15</td>\n",
       "      <td>17</td>\n",
       "      <td>wallstreetbets</td>\n",
       "      <td>['NVDA']</td>\n",
       "      <td>these $132c nvda shares gave me a head start d...</td>\n",
       "    </tr>\n",
       "    <tr>\n",
       "      <th>124</th>\n",
       "      <td>NVIDIA's AI dominance is solid! Q1 data center...</td>\n",
       "      <td>After the U.S. stock market session on Wednesd...</td>\n",
       "      <td>wilbo75771</td>\n",
       "      <td>2025-05-29</td>\n",
       "      <td>69</td>\n",
       "      <td>wallstreetbets</td>\n",
       "      <td>['NVDA']</td>\n",
       "      <td>nvidias ai dominance is solid q1 data center b...</td>\n",
       "    </tr>\n",
       "    <tr>\n",
       "      <th>115</th>\n",
       "      <td>NVDA earnings</td>\n",
       "      <td>Again we see that they are unstoppable\\n\\n* Ad...</td>\n",
       "      <td>swisscowonmoon</td>\n",
       "      <td>2025-05-28</td>\n",
       "      <td>291</td>\n",
       "      <td>stocks</td>\n",
       "      <td>['NVDA']</td>\n",
       "      <td>nvda earnings again we see that they are unsto...</td>\n",
       "    </tr>\n",
       "  </tbody>\n",
       "</table>\n",
       "</div>"
      ],
      "text/plain": [
       "                                                 title  \\\n",
       "64                                Lil baby gains $NVDA   \n",
       "94   Nvda (Nvidia) upcoming earnings will either pu...   \n",
       "47   These $132C NVDA shares gave me a head start 😅...   \n",
       "124  NVIDIA's AI dominance is solid! Q1 data center...   \n",
       "115                                      NVDA earnings   \n",
       "\n",
       "                                              selftext           author  \\\n",
       "64   Cashed out a little bit last week, but holding...  deep_inda_money   \n",
       "94   The last few nvidia earnings have been okay, a...   daydreamer1015   \n",
       "47                                                 NaN       kujothecat   \n",
       "124  After the U.S. stock market session on Wednesd...       wilbo75771   \n",
       "115  Again we see that they are unstoppable\\n\\n* Ad...   swisscowonmoon   \n",
       "\n",
       "           date  score       subreddit tickers_mentioned  \\\n",
       "64   2025-05-19     92  wallstreetbets          ['NVDA']   \n",
       "94   2025-05-25    101          stocks          ['NVDA']   \n",
       "47   2025-05-15     17  wallstreetbets          ['NVDA']   \n",
       "124  2025-05-29     69  wallstreetbets          ['NVDA']   \n",
       "115  2025-05-28    291          stocks          ['NVDA']   \n",
       "\n",
       "                                            clean_text  \n",
       "64   lil baby gains $nvda cashed out a little bit l...  \n",
       "94   nvda nvidia upcoming earnings will either pump...  \n",
       "47   these $132c nvda shares gave me a head start d...  \n",
       "124  nvidias ai dominance is solid q1 data center b...  \n",
       "115  nvda earnings again we see that they are unsto...  "
      ]
     },
     "execution_count": 43,
     "metadata": {},
     "output_type": "execute_result"
    }
   ],
   "source": [
    "data[data['score'] > 5].sample(5)"
   ]
  },
  {
   "cell_type": "code",
   "execution_count": 44,
   "id": "a75e7db9-d012-41e2-b5da-b3c9b8162e52",
   "metadata": {},
   "outputs": [],
   "source": [
    "data['tickers_mentioned'] = data['tickers_mentioned'].fillna('').str.replace(' ', '')\n",
    "data = data[data['tickers_mentioned'] != '']  # Drop posts with no tickers"
   ]
  },
  {
   "cell_type": "code",
   "execution_count": 45,
   "id": "14fbc2dc-20ca-48ce-8918-a9c815b330c4",
   "metadata": {},
   "outputs": [
    {
     "name": "stdout",
     "output_type": "stream",
     "text": [
      "Requirement already satisfied: nltk in /opt/homebrew/Caskroom/miniconda/base/lib/python3.12/site-packages (3.9.1)\n",
      "Requirement already satisfied: click in /opt/homebrew/Caskroom/miniconda/base/lib/python3.12/site-packages (from nltk) (8.1.8)\n",
      "Requirement already satisfied: joblib in /opt/homebrew/Caskroom/miniconda/base/lib/python3.12/site-packages (from nltk) (1.4.2)\n",
      "Requirement already satisfied: regex>=2021.8.3 in /opt/homebrew/Caskroom/miniconda/base/lib/python3.12/site-packages (from nltk) (2024.11.6)\n",
      "Requirement already satisfied: tqdm in /opt/homebrew/Caskroom/miniconda/base/lib/python3.12/site-packages (from nltk) (4.67.1)\n"
     ]
    }
   ],
   "source": [
    "!pip install nltk"
   ]
  },
  {
   "cell_type": "code",
   "execution_count": 46,
   "id": "246d0240-0224-4ba8-afa3-5558d4dabaf4",
   "metadata": {},
   "outputs": [
    {
     "name": "stderr",
     "output_type": "stream",
     "text": [
      "[nltk_data] Downloading package vader_lexicon to\n",
      "[nltk_data]     /Users/aryagupta/nltk_data...\n",
      "[nltk_data]   Package vader_lexicon is already up-to-date!\n"
     ]
    },
    {
     "data": {
      "text/plain": [
       "True"
      ]
     },
     "execution_count": 46,
     "metadata": {},
     "output_type": "execute_result"
    }
   ],
   "source": [
    "import nltk\n",
    "nltk.download('vader_lexicon')"
   ]
  },
  {
   "cell_type": "code",
   "execution_count": 47,
   "id": "ce56258c-ae7c-41df-abc6-ba76d2165457",
   "metadata": {},
   "outputs": [],
   "source": [
    "from nltk.sentiment import SentimentIntensityAnalyzer\n",
    "sia = SentimentIntensityAnalyzer()\n",
    "\n",
    "# Apply with explicit text argument\n",
    "data['sentiment_scores'] = data['clean_text'].apply(lambda text: sia.polarity_scores(str(text)))"
   ]
  },
  {
   "cell_type": "code",
   "execution_count": 48,
   "id": "37146c39-681c-4e16-aa28-706c25130b64",
   "metadata": {},
   "outputs": [],
   "source": [
    "data['compound'] = data['sentiment_scores'].apply(lambda x: x['compound'])"
   ]
  },
  {
   "cell_type": "code",
   "execution_count": 49,
   "id": "e4977e2c-c27c-4732-9962-eb702e0a90ca",
   "metadata": {},
   "outputs": [],
   "source": [
    "def classify_sentiment(compound):\n",
    "    if compound >= 0.05:\n",
    "        return 'positive'\n",
    "    elif compound <= -0.05:\n",
    "        return 'negative'\n",
    "    else:\n",
    "        return 'neutral'\n",
    "\n",
    "data['sentiment'] = data['compound'].apply(classify_sentiment)"
   ]
  },
  {
   "cell_type": "code",
   "execution_count": 51,
   "id": "c2dfc5a5-7741-4915-a790-80c56aad23e2",
   "metadata": {},
   "outputs": [],
   "source": [
    "data.drop(['sentiment_scores', 'selftext', 'title'], axis = 1, inplace = True)"
   ]
  },
  {
   "cell_type": "code",
   "execution_count": 53,
   "id": "4dea5210-9ae7-4af1-9560-ef3fb09b9cdc",
   "metadata": {},
   "outputs": [
    {
     "name": "stdout",
     "output_type": "stream",
     "text": [
      "<class 'pandas.core.frame.DataFrame'>\n",
      "RangeIndex: 161 entries, 0 to 160\n",
      "Data columns (total 8 columns):\n",
      " #   Column             Non-Null Count  Dtype  \n",
      "---  ------             --------------  -----  \n",
      " 0   author             161 non-null    object \n",
      " 1   date               161 non-null    object \n",
      " 2   score              161 non-null    int64  \n",
      " 3   subreddit          161 non-null    object \n",
      " 4   tickers_mentioned  161 non-null    object \n",
      " 5   clean_text         161 non-null    object \n",
      " 6   compound           161 non-null    float64\n",
      " 7   sentiment          161 non-null    object \n",
      "dtypes: float64(1), int64(1), object(6)\n",
      "memory usage: 10.2+ KB\n"
     ]
    }
   ],
   "source": [
    "data.info()"
   ]
  },
  {
   "cell_type": "code",
   "execution_count": 60,
   "id": "3de21e82-c77a-4123-aa76-2419e3c1f55f",
   "metadata": {},
   "outputs": [],
   "source": [
    "import ast\n",
    "\n",
    "def stringify_tickers(x):\n",
    "    if isinstance(x, list):\n",
    "        return ','.join(x)\n",
    "    try:\n",
    "        # Try to parse string representation of list\n",
    "        parsed = ast.literal_eval(x)\n",
    "        if isinstance(parsed, list):\n",
    "            return ','.join(parsed)\n",
    "        else:\n",
    "            return str(x)\n",
    "    except:\n",
    "        return str(x)\n",
    "\n",
    "data['tickers_mentioned'] = data['tickers_mentioned'].apply(stringify_tickers)"
   ]
  },
  {
   "cell_type": "code",
   "execution_count": 62,
   "id": "c3a28507-32e1-4ae6-8f8c-28104f32ffd6",
   "metadata": {},
   "outputs": [
    {
     "data": {
      "text/html": [
       "<div>\n",
       "<style scoped>\n",
       "    .dataframe tbody tr th:only-of-type {\n",
       "        vertical-align: middle;\n",
       "    }\n",
       "\n",
       "    .dataframe tbody tr th {\n",
       "        vertical-align: top;\n",
       "    }\n",
       "\n",
       "    .dataframe thead th {\n",
       "        text-align: right;\n",
       "    }\n",
       "</style>\n",
       "<table border=\"1\" class=\"dataframe\">\n",
       "  <thead>\n",
       "    <tr style=\"text-align: right;\">\n",
       "      <th></th>\n",
       "      <th>author</th>\n",
       "      <th>date</th>\n",
       "      <th>score</th>\n",
       "      <th>subreddit</th>\n",
       "      <th>tickers_mentioned</th>\n",
       "      <th>clean_text</th>\n",
       "      <th>compound</th>\n",
       "      <th>sentiment</th>\n",
       "    </tr>\n",
       "  </thead>\n",
       "  <tbody>\n",
       "    <tr>\n",
       "      <th>129</th>\n",
       "      <td>hot-lengthiness1251</td>\n",
       "      <td>2025-05-31</td>\n",
       "      <td>147</td>\n",
       "      <td>wallstreetbets</td>\n",
       "      <td>NVDA</td>\n",
       "      <td>yolo nvda calls could be the best decision of ...</td>\n",
       "      <td>0.6124</td>\n",
       "      <td>positive</td>\n",
       "    </tr>\n",
       "    <tr>\n",
       "      <th>91</th>\n",
       "      <td>thelankyasian</td>\n",
       "      <td>2025-05-24</td>\n",
       "      <td>651</td>\n",
       "      <td>wallstreetbets</td>\n",
       "      <td>NVDA</td>\n",
       "      <td>i recently discovered nvda options are a hell ...</td>\n",
       "      <td>-0.5423</td>\n",
       "      <td>negative</td>\n",
       "    </tr>\n",
       "    <tr>\n",
       "      <th>75</th>\n",
       "      <td>callsonreddit</td>\n",
       "      <td>2025-05-21</td>\n",
       "      <td>66</td>\n",
       "      <td>wallstreetbets</td>\n",
       "      <td>NVDA</td>\n",
       "      <td>us to keep china chip curbs spurning nvidias c...</td>\n",
       "      <td>0.9432</td>\n",
       "      <td>positive</td>\n",
       "    </tr>\n",
       "    <tr>\n",
       "      <th>100</th>\n",
       "      <td>wilbo75771</td>\n",
       "      <td>2025-05-26</td>\n",
       "      <td>258</td>\n",
       "      <td>wallstreetbets</td>\n",
       "      <td>GOOGL,AAPL,MSFT,NVDA,AMZN</td>\n",
       "      <td>nvidia artificial intelligence nvidia nvda has...</td>\n",
       "      <td>0.9883</td>\n",
       "      <td>positive</td>\n",
       "    </tr>\n",
       "    <tr>\n",
       "      <th>150</th>\n",
       "      <td>chouprojects</td>\n",
       "      <td>2025-06-05</td>\n",
       "      <td>195</td>\n",
       "      <td>wallstreetbets</td>\n",
       "      <td>NVDA</td>\n",
       "      <td>cloudflare $net the next $pltr alright losers ...</td>\n",
       "      <td>0.9615</td>\n",
       "      <td>positive</td>\n",
       "    </tr>\n",
       "  </tbody>\n",
       "</table>\n",
       "</div>"
      ],
      "text/plain": [
       "                  author        date  score       subreddit  \\\n",
       "129  hot-lengthiness1251  2025-05-31    147  wallstreetbets   \n",
       "91         thelankyasian  2025-05-24    651  wallstreetbets   \n",
       "75         callsonreddit  2025-05-21     66  wallstreetbets   \n",
       "100           wilbo75771  2025-05-26    258  wallstreetbets   \n",
       "150         chouprojects  2025-06-05    195  wallstreetbets   \n",
       "\n",
       "             tickers_mentioned  \\\n",
       "129                       NVDA   \n",
       "91                        NVDA   \n",
       "75                        NVDA   \n",
       "100  GOOGL,AAPL,MSFT,NVDA,AMZN   \n",
       "150                       NVDA   \n",
       "\n",
       "                                            clean_text  compound sentiment  \n",
       "129  yolo nvda calls could be the best decision of ...    0.6124  positive  \n",
       "91   i recently discovered nvda options are a hell ...   -0.5423  negative  \n",
       "75   us to keep china chip curbs spurning nvidias c...    0.9432  positive  \n",
       "100  nvidia artificial intelligence nvidia nvda has...    0.9883  positive  \n",
       "150  cloudflare $net the next $pltr alright losers ...    0.9615  positive  "
      ]
     },
     "execution_count": 62,
     "metadata": {},
     "output_type": "execute_result"
    }
   ],
   "source": [
    "data.sample(5)"
   ]
  },
  {
   "cell_type": "code",
   "execution_count": 63,
   "id": "afaeab34-61df-4fdf-b4b2-5e3aea5efa27",
   "metadata": {},
   "outputs": [],
   "source": [
    "data.to_csv('../../data/clean-data/cleaned_reddit_v2.csv')"
   ]
  },
  {
   "cell_type": "code",
   "execution_count": null,
   "id": "5612ec0f-a564-4a64-b472-f44dd3cc04ee",
   "metadata": {},
   "outputs": [],
   "source": []
  }
 ],
 "metadata": {
  "kernelspec": {
   "display_name": "Python 3 (ipykernel)",
   "language": "python",
   "name": "python3"
  },
  "language_info": {
   "codemirror_mode": {
    "name": "ipython",
    "version": 3
   },
   "file_extension": ".py",
   "mimetype": "text/x-python",
   "name": "python",
   "nbconvert_exporter": "python",
   "pygments_lexer": "ipython3",
   "version": "3.12.9"
  }
 },
 "nbformat": 4,
 "nbformat_minor": 5
}
