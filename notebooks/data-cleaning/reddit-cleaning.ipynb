{
 "cells": [
  {
   "cell_type": "code",
   "execution_count": 1,
   "id": "f14ab6a4-a7d9-4326-893e-e4a176c8a4cc",
   "metadata": {},
   "outputs": [],
   "source": [
    "import pandas as pd"
   ]
  },
  {
   "cell_type": "code",
   "execution_count": 84,
   "id": "96ff726b-9fe2-479a-a4d8-d92a5e163aeb",
   "metadata": {},
   "outputs": [],
   "source": [
    "data = pd.read_csv(\"/Users/aryagupta/Desktop/investor-pulse/data/reddit_posts.csv\")"
   ]
  },
  {
   "cell_type": "code",
   "execution_count": 85,
   "id": "963ca4ed-a6a6-4fe4-aa94-93b5d2643b9b",
   "metadata": {},
   "outputs": [
    {
     "data": {
      "text/html": [
       "<div>\n",
       "<style scoped>\n",
       "    .dataframe tbody tr th:only-of-type {\n",
       "        vertical-align: middle;\n",
       "    }\n",
       "\n",
       "    .dataframe tbody tr th {\n",
       "        vertical-align: top;\n",
       "    }\n",
       "\n",
       "    .dataframe thead th {\n",
       "        text-align: right;\n",
       "    }\n",
       "</style>\n",
       "<table border=\"1\" class=\"dataframe\">\n",
       "  <thead>\n",
       "    <tr style=\"text-align: right;\">\n",
       "      <th></th>\n",
       "      <th>title</th>\n",
       "      <th>selftext</th>\n",
       "      <th>author</th>\n",
       "      <th>created_utc</th>\n",
       "      <th>score</th>\n",
       "      <th>subreddit</th>\n",
       "      <th>tickers_mentioned</th>\n",
       "    </tr>\n",
       "  </thead>\n",
       "  <tbody>\n",
       "    <tr>\n",
       "      <th>23</th>\n",
       "      <td>Is investing in stocks already heavily favored...</td>\n",
       "      <td>I left a comment elsewhere which after posting...</td>\n",
       "      <td>69philosopher</td>\n",
       "      <td>2025-05-10 20:19:59</td>\n",
       "      <td>16</td>\n",
       "      <td>investing</td>\n",
       "      <td>MSFT</td>\n",
       "    </tr>\n",
       "    <tr>\n",
       "      <th>8</th>\n",
       "      <td>GENIUS stablecoin and potential push for token...</td>\n",
       "      <td>/\\* posted in /stocks but was removed due to o...</td>\n",
       "      <td>Moirailogist</td>\n",
       "      <td>2025-05-22 18:58:33</td>\n",
       "      <td>0</td>\n",
       "      <td>investing</td>\n",
       "      <td>TSLA,AAPL,NVDA</td>\n",
       "    </tr>\n",
       "    <tr>\n",
       "      <th>138</th>\n",
       "      <td>Dow Jones, S&amp;P 500 and Nasdaq trim losses as T...</td>\n",
       "      <td>U.S. stocks fell Friday and were on track to r...</td>\n",
       "      <td>Aluseda</td>\n",
       "      <td>2025-05-23 19:44:52</td>\n",
       "      <td>121</td>\n",
       "      <td>stocks</td>\n",
       "      <td>AAPL</td>\n",
       "    </tr>\n",
       "    <tr>\n",
       "      <th>32</th>\n",
       "      <td>Tesla Board Opened Search for a CEO to Succeed...</td>\n",
       "      <td>With profits and stock price sinking, board me...</td>\n",
       "      <td>TechSMR2018</td>\n",
       "      <td>2025-05-01 01:19:09</td>\n",
       "      <td>1363</td>\n",
       "      <td>investing</td>\n",
       "      <td>TSLA</td>\n",
       "    </tr>\n",
       "    <tr>\n",
       "      <th>178</th>\n",
       "      <td>(05/1) Interesting Stocks Today - Unemployment...</td>\n",
       "      <td>Hi! I am an ex-prop shop equity trader. This i...</td>\n",
       "      <td>WinningWatchlist</td>\n",
       "      <td>2025-05-01 13:08:57</td>\n",
       "      <td>13</td>\n",
       "      <td>stocks</td>\n",
       "      <td>TSLA,AAPL,MSFT,NVDA,AMZN</td>\n",
       "    </tr>\n",
       "  </tbody>\n",
       "</table>\n",
       "</div>"
      ],
      "text/plain": [
       "                                                 title  \\\n",
       "23   Is investing in stocks already heavily favored...   \n",
       "8    GENIUS stablecoin and potential push for token...   \n",
       "138  Dow Jones, S&P 500 and Nasdaq trim losses as T...   \n",
       "32   Tesla Board Opened Search for a CEO to Succeed...   \n",
       "178  (05/1) Interesting Stocks Today - Unemployment...   \n",
       "\n",
       "                                              selftext            author  \\\n",
       "23   I left a comment elsewhere which after posting...     69philosopher   \n",
       "8    /\\* posted in /stocks but was removed due to o...      Moirailogist   \n",
       "138  U.S. stocks fell Friday and were on track to r...           Aluseda   \n",
       "32   With profits and stock price sinking, board me...       TechSMR2018   \n",
       "178  Hi! I am an ex-prop shop equity trader. This i...  WinningWatchlist   \n",
       "\n",
       "             created_utc  score  subreddit         tickers_mentioned  \n",
       "23   2025-05-10 20:19:59     16  investing                      MSFT  \n",
       "8    2025-05-22 18:58:33      0  investing            TSLA,AAPL,NVDA  \n",
       "138  2025-05-23 19:44:52    121     stocks                      AAPL  \n",
       "32   2025-05-01 01:19:09   1363  investing                      TSLA  \n",
       "178  2025-05-01 13:08:57     13     stocks  TSLA,AAPL,MSFT,NVDA,AMZN  "
      ]
     },
     "execution_count": 85,
     "metadata": {},
     "output_type": "execute_result"
    }
   ],
   "source": [
    "data.sample(5)"
   ]
  },
  {
   "cell_type": "code",
   "execution_count": 86,
   "id": "685525f6-ace2-43bc-b596-d8dc8211b405",
   "metadata": {},
   "outputs": [
    {
     "data": {
      "text/plain": [
       "title                 0\n",
       "selftext             12\n",
       "author                0\n",
       "created_utc           0\n",
       "score                 0\n",
       "subreddit             0\n",
       "tickers_mentioned     0\n",
       "dtype: int64"
      ]
     },
     "execution_count": 86,
     "metadata": {},
     "output_type": "execute_result"
    }
   ],
   "source": [
    "data.isna().sum()"
   ]
  },
  {
   "cell_type": "code",
   "execution_count": 87,
   "id": "28863988-04c9-4057-a770-6c18894af39e",
   "metadata": {},
   "outputs": [
    {
     "data": {
      "text/plain": [
       "np.int64(0)"
      ]
     },
     "execution_count": 87,
     "metadata": {},
     "output_type": "execute_result"
    }
   ],
   "source": [
    "data.duplicated().sum()"
   ]
  },
  {
   "cell_type": "code",
   "execution_count": 88,
   "id": "bb74dd34-d877-497f-ac5d-ff741ae0b2ba",
   "metadata": {},
   "outputs": [],
   "source": [
    "data['created_utc'] = pd.to_datetime(data['created_utc'])\n",
    "data['date'] = data['created_utc'].dt.date"
   ]
  },
  {
   "cell_type": "code",
   "execution_count": 89,
   "id": "fa1d1687-e01c-4a24-9837-f3ccdaf5ff89",
   "metadata": {},
   "outputs": [],
   "source": [
    "data['full_text'] = (data['title'].fillna('') + ' ' + data['selftext'].fillna('')).str.lower()"
   ]
  },
  {
   "cell_type": "code",
   "execution_count": 90,
   "id": "e2a9a6ba-2cdc-4082-a987-a54c594c776e",
   "metadata": {},
   "outputs": [],
   "source": [
    "import re\n",
    "\n",
    "def clean_text(text):\n",
    "    text = re.sub(r\"http\\S+|www\\S+\", \"\", text)         # URLs\n",
    "    text = re.sub(r\"u/\\w+|r/\\w+\", \"\", text)            # Mentions\n",
    "    text = re.sub(r\"[^a-z\\s]\", \"\", text)               # Non-alpha\n",
    "    text = re.sub(r\"\\s+\", \" \", text)                   # Extra spaces\n",
    "    return text.strip()\n",
    "\n",
    "data['clean_text'] = data['full_text'].apply(clean_text)"
   ]
  },
  {
   "cell_type": "code",
   "execution_count": 91,
   "id": "0da63679-0f77-42b5-bd19-e895fd0d9b09",
   "metadata": {},
   "outputs": [],
   "source": [
    "data.drop(['title', 'selftext', 'full_text', 'author'], axis = 1, inplace = True)"
   ]
  },
  {
   "cell_type": "code",
   "execution_count": 92,
   "id": "e6301978-78d8-4b20-a5c8-8dc1c6e6b205",
   "metadata": {},
   "outputs": [
    {
     "data": {
      "text/html": [
       "<div>\n",
       "<style scoped>\n",
       "    .dataframe tbody tr th:only-of-type {\n",
       "        vertical-align: middle;\n",
       "    }\n",
       "\n",
       "    .dataframe tbody tr th {\n",
       "        vertical-align: top;\n",
       "    }\n",
       "\n",
       "    .dataframe thead th {\n",
       "        text-align: right;\n",
       "    }\n",
       "</style>\n",
       "<table border=\"1\" class=\"dataframe\">\n",
       "  <thead>\n",
       "    <tr style=\"text-align: right;\">\n",
       "      <th></th>\n",
       "      <th>created_utc</th>\n",
       "      <th>score</th>\n",
       "      <th>subreddit</th>\n",
       "      <th>tickers_mentioned</th>\n",
       "      <th>date</th>\n",
       "      <th>clean_text</th>\n",
       "    </tr>\n",
       "  </thead>\n",
       "  <tbody>\n",
       "    <tr>\n",
       "      <th>91</th>\n",
       "      <td>2025-05-16 22:05:05</td>\n",
       "      <td>32</td>\n",
       "      <td>wallstreetbets</td>\n",
       "      <td>NVDA</td>\n",
       "      <td>2025-05-16</td>\n",
       "      <td>holding nvda over weekend to be honest with th...</td>\n",
       "    </tr>\n",
       "    <tr>\n",
       "      <th>181</th>\n",
       "      <td>2025-04-30 20:08:32</td>\n",
       "      <td>329</td>\n",
       "      <td>stocks</td>\n",
       "      <td>MSFT</td>\n",
       "      <td>2025-04-30</td>\n",
       "      <td>microsoft shares jump on earnings revenue beat...</td>\n",
       "    </tr>\n",
       "    <tr>\n",
       "      <th>74</th>\n",
       "      <td>2025-05-24 15:26:17</td>\n",
       "      <td>652</td>\n",
       "      <td>wallstreetbets</td>\n",
       "      <td>NVDA</td>\n",
       "      <td>2025-05-24</td>\n",
       "      <td>i recently discovered nvda options are a hell ...</td>\n",
       "    </tr>\n",
       "    <tr>\n",
       "      <th>50</th>\n",
       "      <td>2025-05-30 00:23:13</td>\n",
       "      <td>41</td>\n",
       "      <td>wallstreetbets</td>\n",
       "      <td>NVDA</td>\n",
       "      <td>2025-05-30</td>\n",
       "      <td>nvda by july rd i believe this qualifies as a ...</td>\n",
       "    </tr>\n",
       "    <tr>\n",
       "      <th>51</th>\n",
       "      <td>2025-05-29 21:55:27</td>\n",
       "      <td>69</td>\n",
       "      <td>wallstreetbets</td>\n",
       "      <td>NVDA</td>\n",
       "      <td>2025-05-29</td>\n",
       "      <td>nvidias ai dominance is solid q data center bu...</td>\n",
       "    </tr>\n",
       "  </tbody>\n",
       "</table>\n",
       "</div>"
      ],
      "text/plain": [
       "            created_utc  score       subreddit tickers_mentioned        date  \\\n",
       "91  2025-05-16 22:05:05     32  wallstreetbets              NVDA  2025-05-16   \n",
       "181 2025-04-30 20:08:32    329          stocks              MSFT  2025-04-30   \n",
       "74  2025-05-24 15:26:17    652  wallstreetbets              NVDA  2025-05-24   \n",
       "50  2025-05-30 00:23:13     41  wallstreetbets              NVDA  2025-05-30   \n",
       "51  2025-05-29 21:55:27     69  wallstreetbets              NVDA  2025-05-29   \n",
       "\n",
       "                                            clean_text  \n",
       "91   holding nvda over weekend to be honest with th...  \n",
       "181  microsoft shares jump on earnings revenue beat...  \n",
       "74   i recently discovered nvda options are a hell ...  \n",
       "50   nvda by july rd i believe this qualifies as a ...  \n",
       "51   nvidias ai dominance is solid q data center bu...  "
      ]
     },
     "execution_count": 92,
     "metadata": {},
     "output_type": "execute_result"
    }
   ],
   "source": [
    "data[data['score'] > 5].sample(5)"
   ]
  },
  {
   "cell_type": "code",
   "execution_count": 93,
   "id": "a75e7db9-d012-41e2-b5da-b3c9b8162e52",
   "metadata": {},
   "outputs": [],
   "source": [
    "data['tickers_mentioned'] = data['tickers_mentioned'].fillna('').str.replace(' ', '')\n",
    "data = data[data['tickers_mentioned'] != '']  # Drop posts with no tickers"
   ]
  },
  {
   "cell_type": "code",
   "execution_count": 94,
   "id": "246d0240-0224-4ba8-afa3-5558d4dabaf4",
   "metadata": {},
   "outputs": [
    {
     "name": "stderr",
     "output_type": "stream",
     "text": [
      "[nltk_data] Downloading package vader_lexicon to\n",
      "[nltk_data]     /Users/aryagupta/nltk_data...\n",
      "[nltk_data]   Package vader_lexicon is already up-to-date!\n"
     ]
    },
    {
     "data": {
      "text/plain": [
       "True"
      ]
     },
     "execution_count": 94,
     "metadata": {},
     "output_type": "execute_result"
    }
   ],
   "source": [
    "import nltk\n",
    "nltk.download('vader_lexicon')"
   ]
  },
  {
   "cell_type": "code",
   "execution_count": 95,
   "id": "ce56258c-ae7c-41df-abc6-ba76d2165457",
   "metadata": {},
   "outputs": [],
   "source": [
    "from nltk.sentiment import SentimentIntensityAnalyzer as sia\n",
    "\n",
    "# Correct instantiation with parentheses\n",
    "sia = SentimentIntensityAnalyzer()\n",
    "\n",
    "# Apply with explicit text argument\n",
    "data['sentiment_scores'] = data['clean_text'].apply(lambda text: sia.polarity_scores(str(text)))"
   ]
  },
  {
   "cell_type": "code",
   "execution_count": 96,
   "id": "37146c39-681c-4e16-aa28-706c25130b64",
   "metadata": {},
   "outputs": [],
   "source": [
    "data['compound'] = data['sentiment_scores'].apply(lambda x: x['compound'])"
   ]
  },
  {
   "cell_type": "code",
   "execution_count": 97,
   "id": "e4977e2c-c27c-4732-9962-eb702e0a90ca",
   "metadata": {},
   "outputs": [],
   "source": [
    "def classify_sentiment(compound):\n",
    "    if compound >= 0.05:\n",
    "        return 'positive'\n",
    "    elif compound <= -0.05:\n",
    "        return 'negative'\n",
    "    else:\n",
    "        return 'neutral'\n",
    "\n",
    "data['sentiment'] = data['compound'].apply(classify_sentiment)"
   ]
  },
  {
   "cell_type": "code",
   "execution_count": 98,
   "id": "c2dfc5a5-7741-4915-a790-80c56aad23e2",
   "metadata": {},
   "outputs": [],
   "source": [
    "data.drop(['sentiment_scores', 'created_utc'], axis = 1, inplace = True)"
   ]
  },
  {
   "cell_type": "code",
   "execution_count": 99,
   "id": "c3a28507-32e1-4ae6-8f8c-28104f32ffd6",
   "metadata": {},
   "outputs": [
    {
     "data": {
      "text/html": [
       "<div>\n",
       "<style scoped>\n",
       "    .dataframe tbody tr th:only-of-type {\n",
       "        vertical-align: middle;\n",
       "    }\n",
       "\n",
       "    .dataframe tbody tr th {\n",
       "        vertical-align: top;\n",
       "    }\n",
       "\n",
       "    .dataframe thead th {\n",
       "        text-align: right;\n",
       "    }\n",
       "</style>\n",
       "<table border=\"1\" class=\"dataframe\">\n",
       "  <thead>\n",
       "    <tr style=\"text-align: right;\">\n",
       "      <th></th>\n",
       "      <th>score</th>\n",
       "      <th>subreddit</th>\n",
       "      <th>tickers_mentioned</th>\n",
       "      <th>date</th>\n",
       "      <th>clean_text</th>\n",
       "      <th>compound</th>\n",
       "      <th>sentiment</th>\n",
       "    </tr>\n",
       "  </thead>\n",
       "  <tbody>\n",
       "    <tr>\n",
       "      <th>118</th>\n",
       "      <td>0</td>\n",
       "      <td>stocks</td>\n",
       "      <td>NVDA</td>\n",
       "      <td>2025-06-03</td>\n",
       "      <td>voo etf vs safe growth big cap stocks hi guys ...</td>\n",
       "      <td>0.9921</td>\n",
       "      <td>positive</td>\n",
       "    </tr>\n",
       "    <tr>\n",
       "      <th>110</th>\n",
       "      <td>44</td>\n",
       "      <td>wallstreetbets</td>\n",
       "      <td>AMZN</td>\n",
       "      <td>2025-05-12</td>\n",
       "      <td>am i doing the china deal right nke and amzn c...</td>\n",
       "      <td>0.8201</td>\n",
       "      <td>positive</td>\n",
       "    </tr>\n",
       "    <tr>\n",
       "      <th>159</th>\n",
       "      <td>2</td>\n",
       "      <td>stocks</td>\n",
       "      <td>AAPL,AMZN</td>\n",
       "      <td>2025-05-12</td>\n",
       "      <td>interesting stocks today major reductions in t...</td>\n",
       "      <td>0.8933</td>\n",
       "      <td>positive</td>\n",
       "    </tr>\n",
       "    <tr>\n",
       "      <th>151</th>\n",
       "      <td>15</td>\n",
       "      <td>stocks</td>\n",
       "      <td>AAPL</td>\n",
       "      <td>2025-05-16</td>\n",
       "      <td>daily discussion fundamentals friday may this ...</td>\n",
       "      <td>0.9730</td>\n",
       "      <td>positive</td>\n",
       "    </tr>\n",
       "    <tr>\n",
       "      <th>179</th>\n",
       "      <td>1</td>\n",
       "      <td>stocks</td>\n",
       "      <td>MSFT,NVDA,AMZN</td>\n",
       "      <td>2025-05-01</td>\n",
       "      <td>inheriting a small fortune considering how to ...</td>\n",
       "      <td>0.9569</td>\n",
       "      <td>positive</td>\n",
       "    </tr>\n",
       "  </tbody>\n",
       "</table>\n",
       "</div>"
      ],
      "text/plain": [
       "     score       subreddit tickers_mentioned        date  \\\n",
       "118      0          stocks              NVDA  2025-06-03   \n",
       "110     44  wallstreetbets              AMZN  2025-05-12   \n",
       "159      2          stocks         AAPL,AMZN  2025-05-12   \n",
       "151     15          stocks              AAPL  2025-05-16   \n",
       "179      1          stocks    MSFT,NVDA,AMZN  2025-05-01   \n",
       "\n",
       "                                            clean_text  compound sentiment  \n",
       "118  voo etf vs safe growth big cap stocks hi guys ...    0.9921  positive  \n",
       "110  am i doing the china deal right nke and amzn c...    0.8201  positive  \n",
       "159  interesting stocks today major reductions in t...    0.8933  positive  \n",
       "151  daily discussion fundamentals friday may this ...    0.9730  positive  \n",
       "179  inheriting a small fortune considering how to ...    0.9569  positive  "
      ]
     },
     "execution_count": 99,
     "metadata": {},
     "output_type": "execute_result"
    }
   ],
   "source": [
    "data.sample(5)"
   ]
  },
  {
   "cell_type": "code",
   "execution_count": 100,
   "id": "afaeab34-61df-4fdf-b4b2-5e3aea5efa27",
   "metadata": {},
   "outputs": [],
   "source": [
    "data.to_csv('cleaned_reddit.csv')"
   ]
  },
  {
   "cell_type": "code",
   "execution_count": null,
   "id": "5612ec0f-a564-4a64-b472-f44dd3cc04ee",
   "metadata": {},
   "outputs": [],
   "source": []
  }
 ],
 "metadata": {
  "kernelspec": {
   "display_name": "Python 3 (ipykernel)",
   "language": "python",
   "name": "python3"
  },
  "language_info": {
   "codemirror_mode": {
    "name": "ipython",
    "version": 3
   },
   "file_extension": ".py",
   "mimetype": "text/x-python",
   "name": "python",
   "nbconvert_exporter": "python",
   "pygments_lexer": "ipython3",
   "version": "3.12.9"
  }
 },
 "nbformat": 4,
 "nbformat_minor": 5
}
