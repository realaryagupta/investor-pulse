{
 "cells": [
  {
   "cell_type": "code",
   "execution_count": 26,
   "id": "537c94f0-ce3b-4509-a57e-d77b0116c571",
   "metadata": {},
   "outputs": [],
   "source": [
    "import pandas as pd\n",
    "from langdetect import detect, LangDetectException"
   ]
  },
  {
   "cell_type": "code",
   "execution_count": 3,
   "id": "0fe2d772-6753-4ebe-8593-3d260e6b77af",
   "metadata": {},
   "outputs": [],
   "source": [
    "data = pd.read_csv(\"/Users/aryagupta/Desktop/investor-pulse/data/headlines_scraped_unclean.csv\")"
   ]
  },
  {
   "cell_type": "code",
   "execution_count": 6,
   "id": "ab6a4dc3-c71e-43a4-8727-a1d9d35df41d",
   "metadata": {},
   "outputs": [],
   "source": [
    "data.drop('Unnamed: 0', axis = 1, inplace = True)"
   ]
  },
  {
   "cell_type": "code",
   "execution_count": 24,
   "id": "8f60ad05-dcaa-4d89-825f-fa4e8865333d",
   "metadata": {},
   "outputs": [
    {
     "data": {
      "text/html": [
       "<div>\n",
       "<style scoped>\n",
       "    .dataframe tbody tr th:only-of-type {\n",
       "        vertical-align: middle;\n",
       "    }\n",
       "\n",
       "    .dataframe tbody tr th {\n",
       "        vertical-align: top;\n",
       "    }\n",
       "\n",
       "    .dataframe thead th {\n",
       "        text-align: right;\n",
       "    }\n",
       "</style>\n",
       "<table border=\"1\" class=\"dataframe\">\n",
       "  <thead>\n",
       "    <tr style=\"text-align: right;\">\n",
       "      <th></th>\n",
       "      <th>headline</th>\n",
       "      <th>date</th>\n",
       "      <th>company</th>\n",
       "    </tr>\n",
       "  </thead>\n",
       "  <tbody>\n",
       "    <tr>\n",
       "      <th>242</th>\n",
       "      <td>ASX Market Open: Unsurprising Trump EU backdow...</td>\n",
       "      <td>2025-05-27</td>\n",
       "      <td>AAPL</td>\n",
       "    </tr>\n",
       "    <tr>\n",
       "      <th>304</th>\n",
       "      <td>Investigating Microsoft's Standing In Software...</td>\n",
       "      <td>2025-05-27</td>\n",
       "      <td>MSFT</td>\n",
       "    </tr>\n",
       "    <tr>\n",
       "      <th>96</th>\n",
       "      <td>C3.ai Eyes $47 Billion Agentic AI Market By 20...</td>\n",
       "      <td>2025-05-29</td>\n",
       "      <td>GOOGL</td>\n",
       "    </tr>\n",
       "    <tr>\n",
       "      <th>236</th>\n",
       "      <td>The Wild Ride of Informatica: 32 Years, 2 IPOs...</td>\n",
       "      <td>2025-05-28</td>\n",
       "      <td>MSFT</td>\n",
       "    </tr>\n",
       "    <tr>\n",
       "      <th>336</th>\n",
       "      <td>authID Announces its 2025 Board of Directors N...</td>\n",
       "      <td>2025-05-27</td>\n",
       "      <td>MSFT</td>\n",
       "    </tr>\n",
       "  </tbody>\n",
       "</table>\n",
       "</div>"
      ],
      "text/plain": [
       "                                              headline        date company\n",
       "242  ASX Market Open: Unsurprising Trump EU backdow...  2025-05-27    AAPL\n",
       "304  Investigating Microsoft's Standing In Software...  2025-05-27    MSFT\n",
       "96   C3.ai Eyes $47 Billion Agentic AI Market By 20...  2025-05-29   GOOGL\n",
       "236  The Wild Ride of Informatica: 32 Years, 2 IPOs...  2025-05-28    MSFT\n",
       "336  authID Announces its 2025 Board of Directors N...  2025-05-27    MSFT"
      ]
     },
     "execution_count": 24,
     "metadata": {},
     "output_type": "execute_result"
    }
   ],
   "source": [
    "data.sample(5)"
   ]
  },
  {
   "cell_type": "code",
   "execution_count": 21,
   "id": "e8360701-82c8-4821-8539-04d04c3e1d85",
   "metadata": {},
   "outputs": [
    {
     "name": "stdout",
     "output_type": "stream",
     "text": [
      "<class 'pandas.core.frame.DataFrame'>\n",
      "RangeIndex: 394 entries, 0 to 393\n",
      "Data columns (total 3 columns):\n",
      " #   Column    Non-Null Count  Dtype              \n",
      "---  ------    --------------  -----              \n",
      " 0   headline  394 non-null    object             \n",
      " 1   date      394 non-null    datetime64[ns, UTC]\n",
      " 2   company   394 non-null    object             \n",
      "dtypes: datetime64[ns, UTC](1), object(2)\n",
      "memory usage: 9.4+ KB\n"
     ]
    }
   ],
   "source": [
    "data.info()"
   ]
  },
  {
   "cell_type": "code",
   "execution_count": 10,
   "id": "d0f74e1d-2fb7-4734-892c-65c0ada0927f",
   "metadata": {},
   "outputs": [
    {
     "data": {
      "text/plain": [
       "np.int64(107)"
      ]
     },
     "execution_count": 10,
     "metadata": {},
     "output_type": "execute_result"
    }
   ],
   "source": [
    "data.duplicated(subset='headline').sum()"
   ]
  },
  {
   "cell_type": "code",
   "execution_count": 20,
   "id": "6f82d083-b8c3-4b44-8344-f71ff78a9035",
   "metadata": {},
   "outputs": [],
   "source": [
    "data['date'] = pd.to_datetime(data['date'])"
   ]
  },
  {
   "cell_type": "code",
   "execution_count": 23,
   "id": "d1f7c9e7-a372-42ff-bc8e-f16fc527ef5c",
   "metadata": {},
   "outputs": [],
   "source": [
    "data['date'] = data['date'].dt.date"
   ]
  },
  {
   "cell_type": "code",
   "execution_count": 25,
   "id": "9f202436-1198-405f-b3aa-fb0b4d7ce1d8",
   "metadata": {},
   "outputs": [
    {
     "data": {
      "text/plain": [
       "0      Bill Nygren's Strategic Moves: Constellation B...\n",
       "1      Market Today: Nvidia (NVDA) Leads AI Surge Ami...\n",
       "2      ASX Market Open: Trump tariff appeal ruling bu...\n",
       "3       Wall Street w górę po decyzji sądu w sprawie ceł\n",
       "4       Wall Street w górę po decyzji sądu w sprawie ceł\n",
       "                             ...                        \n",
       "389    Tesla struggles in Europe as sales plunge 49% ...\n",
       "390    YouTube CEO Neal Mohan Says The Streaming Gian...\n",
       "391    Stock Market Today: Markets Rally as Trump Del...\n",
       "392    Stock Market Today: Markets Rally as Trump Del...\n",
       "393    Stock Market Today: Markets Rally as Trump Del...\n",
       "Name: headline, Length: 394, dtype: object"
      ]
     },
     "execution_count": 25,
     "metadata": {},
     "output_type": "execute_result"
    }
   ],
   "source": [
    "data['headline']"
   ]
  },
  {
   "cell_type": "code",
   "execution_count": 27,
   "id": "f2379db7-1f0a-47f0-8550-0b43fe4cb4bc",
   "metadata": {},
   "outputs": [],
   "source": [
    "def is_english(text):\n",
    "    try:\n",
    "        return detect(str(text)) == 'en'\n",
    "    except (LangDetectException, TypeError):\n",
    "        return False\n",
    "\n",
    "data = data[data['headline'].apply(is_english)]"
   ]
  },
  {
   "cell_type": "code",
   "execution_count": 33,
   "id": "c7c95c04-d7f3-4687-88c7-47180c5ff79d",
   "metadata": {},
   "outputs": [
    {
     "name": "stderr",
     "output_type": "stream",
     "text": [
      "/var/folders/vr/nc9jvld12q115x_g_114k8g40000gn/T/ipykernel_90137/1657082807.py:35: SettingWithCopyWarning: \n",
      "A value is trying to be set on a copy of a slice from a DataFrame.\n",
      "Try using .loc[row_indexer,col_indexer] = value instead\n",
      "\n",
      "See the caveats in the documentation: https://pandas.pydata.org/pandas-docs/stable/user_guide/indexing.html#returning-a-view-versus-a-copy\n",
      "  data['cleaned_headline'] = data['headline'].apply(clean_text)\n"
     ]
    }
   ],
   "source": [
    "import re\n",
    "import string\n",
    "\n",
    "\n",
    "def clean_text(text):\n",
    "    if pd.isnull(text):\n",
    "        return \"\"\n",
    "\n",
    "    # Convert to lowercase\n",
    "    text = text.lower()\n",
    "\n",
    "    # Remove URLs (http, https, www)\n",
    "    url_pattern = r'https?://\\S+|www\\.\\S+'\n",
    "    text = re.sub(url_pattern, '', text)\n",
    "\n",
    "    # Remove HTML tags\n",
    "    html_pattern = r'<.*?>'\n",
    "    text = re.sub(html_pattern, '', text)\n",
    "\n",
    "    # Remove punctuation using string.punctuation\n",
    "    # This includes !\"#$%&'()*+,-./:;<=>?@[\\]^_`{|}~\n",
    "    text = text.translate(str.maketrans('', '', string.punctuation))\n",
    "\n",
    "    # Remove any remaining non-alphanumeric characters (optional)\n",
    "    text = re.sub(r'[^a-zA-Z0-9\\s]', '', text)\n",
    "\n",
    "    # Replace multiple spaces with a single space\n",
    "    text = re.sub(r'\\s+', ' ', text)\n",
    "\n",
    "    # Strip leading/trailing whitespace\n",
    "    text = text.strip()\n",
    "\n",
    "    return text\n",
    "\n",
    "data['cleaned_headline'] = data['headline'].apply(clean_text)"
   ]
  },
  {
   "cell_type": "code",
   "execution_count": 36,
   "id": "262ed4ae-9617-40a0-937d-a479ae036c85",
   "metadata": {},
   "outputs": [
    {
     "name": "stderr",
     "output_type": "stream",
     "text": [
      "/var/folders/vr/nc9jvld12q115x_g_114k8g40000gn/T/ipykernel_90137/1868516238.py:1: SettingWithCopyWarning: \n",
      "A value is trying to be set on a copy of a slice from a DataFrame\n",
      "\n",
      "See the caveats in the documentation: https://pandas.pydata.org/pandas-docs/stable/user_guide/indexing.html#returning-a-view-versus-a-copy\n",
      "  data.drop('headline', axis =1 , inplace = True)\n"
     ]
    }
   ],
   "source": [
    "data.drop('headline', axis =1 , inplace = True)"
   ]
  },
  {
   "cell_type": "code",
   "execution_count": 39,
   "id": "a2603131-677f-4e81-a548-5e0ef677be1a",
   "metadata": {},
   "outputs": [],
   "source": [
    "data.to_csv('cleaned_headlines.csv')"
   ]
  },
  {
   "cell_type": "code",
   "execution_count": null,
   "id": "80608474-faf8-4f6a-8c2c-c345f4ccb842",
   "metadata": {},
   "outputs": [],
   "source": []
  }
 ],
 "metadata": {
  "kernelspec": {
   "display_name": "Python 3 (ipykernel)",
   "language": "python",
   "name": "python3"
  },
  "language_info": {
   "codemirror_mode": {
    "name": "ipython",
    "version": 3
   },
   "file_extension": ".py",
   "mimetype": "text/x-python",
   "name": "python",
   "nbconvert_exporter": "python",
   "pygments_lexer": "ipython3",
   "version": "3.12.9"
  }
 },
 "nbformat": 4,
 "nbformat_minor": 5
}
