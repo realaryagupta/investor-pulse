{
 "cells": [
  {
   "cell_type": "code",
   "execution_count": 1,
   "id": "5d338778-1e37-4401-9214-2fe0f34c380d",
   "metadata": {},
   "outputs": [],
   "source": [
    "import pandas as pd"
   ]
  },
  {
   "cell_type": "code",
   "execution_count": 3,
   "id": "f3e9e7d2-c353-449a-8f8e-3f02f6625983",
   "metadata": {},
   "outputs": [],
   "source": [
    "apple = pd.read_csv('../../data/scraped-data/AAPL_daily_2025.csv')\n",
    "apple.drop(apple.index[0], inplace=True)"
   ]
  },
  {
   "cell_type": "code",
   "execution_count": 4,
   "id": "89f29fcd-7084-4657-b51f-7c39af0e7740",
   "metadata": {},
   "outputs": [
    {
     "data": {
      "text/html": [
       "<div>\n",
       "<style scoped>\n",
       "    .dataframe tbody tr th:only-of-type {\n",
       "        vertical-align: middle;\n",
       "    }\n",
       "\n",
       "    .dataframe tbody tr th {\n",
       "        vertical-align: top;\n",
       "    }\n",
       "\n",
       "    .dataframe thead th {\n",
       "        text-align: right;\n",
       "    }\n",
       "</style>\n",
       "<table border=\"1\" class=\"dataframe\">\n",
       "  <thead>\n",
       "    <tr style=\"text-align: right;\">\n",
       "      <th></th>\n",
       "      <th>Date</th>\n",
       "      <th>Open</th>\n",
       "      <th>High</th>\n",
       "      <th>Low</th>\n",
       "      <th>Close</th>\n",
       "      <th>Volume</th>\n",
       "    </tr>\n",
       "  </thead>\n",
       "  <tbody>\n",
       "    <tr>\n",
       "      <th>1</th>\n",
       "      <td>2025-01-02</td>\n",
       "      <td>248.3309608077005</td>\n",
       "      <td>248.5005651105234</td>\n",
       "      <td>241.23808511721737</td>\n",
       "      <td>243.26319885253906</td>\n",
       "      <td>55740700.0</td>\n",
       "    </tr>\n",
       "    <tr>\n",
       "      <th>2</th>\n",
       "      <td>2025-01-03</td>\n",
       "      <td>242.7743682861328</td>\n",
       "      <td>243.5923870862029</td>\n",
       "      <td>241.3079045417172</td>\n",
       "      <td>242.7743682861328</td>\n",
       "      <td>40244100.0</td>\n",
       "    </tr>\n",
       "    <tr>\n",
       "      <th>3</th>\n",
       "      <td>2025-01-06</td>\n",
       "      <td>243.72207367593157</td>\n",
       "      <td>246.73481040856498</td>\n",
       "      <td>242.61474424512696</td>\n",
       "      <td>244.41041564941406</td>\n",
       "      <td>45045600.0</td>\n",
       "    </tr>\n",
       "    <tr>\n",
       "      <th>4</th>\n",
       "      <td>2025-01-07</td>\n",
       "      <td>242.3952722906863</td>\n",
       "      <td>244.9590949760797</td>\n",
       "      <td>240.76920518354387</td>\n",
       "      <td>241.62713623046875</td>\n",
       "      <td>40856000.0</td>\n",
       "    </tr>\n",
       "    <tr>\n",
       "      <th>5</th>\n",
       "      <td>2025-01-08</td>\n",
       "      <td>241.33782978685954</td>\n",
       "      <td>243.12353076570005</td>\n",
       "      <td>239.47233471944105</td>\n",
       "      <td>242.11595153808594</td>\n",
       "      <td>37628900.0</td>\n",
       "    </tr>\n",
       "  </tbody>\n",
       "</table>\n",
       "</div>"
      ],
      "text/plain": [
       "         Date                Open                High                 Low  \\\n",
       "1  2025-01-02   248.3309608077005   248.5005651105234  241.23808511721737   \n",
       "2  2025-01-03   242.7743682861328   243.5923870862029   241.3079045417172   \n",
       "3  2025-01-06  243.72207367593157  246.73481040856498  242.61474424512696   \n",
       "4  2025-01-07   242.3952722906863   244.9590949760797  240.76920518354387   \n",
       "5  2025-01-08  241.33782978685954  243.12353076570005  239.47233471944105   \n",
       "\n",
       "                Close      Volume  \n",
       "1  243.26319885253906  55740700.0  \n",
       "2   242.7743682861328  40244100.0  \n",
       "3  244.41041564941406  45045600.0  \n",
       "4  241.62713623046875  40856000.0  \n",
       "5  242.11595153808594  37628900.0  "
      ]
     },
     "execution_count": 4,
     "metadata": {},
     "output_type": "execute_result"
    }
   ],
   "source": [
    "apple.head()"
   ]
  },
  {
   "cell_type": "code",
   "execution_count": 5,
   "id": "03bf98e6-9ce0-4ab1-bb3e-a30a587492f6",
   "metadata": {},
   "outputs": [],
   "source": [
    "apple['Date'] = pd.to_datetime(apple['Date'])\n",
    "apple['Open'] = apple['Open'].astype(float)\n",
    "apple['High'] = apple['High'].astype(float)\n",
    "apple['Low'] = apple['Low'].astype(float)\n",
    "apple['Close'] = apple['Close'].astype(float)\n",
    "apple['Volume'] = apple['Volume'].astype(float)"
   ]
  },
  {
   "cell_type": "code",
   "execution_count": 6,
   "id": "dcf9a374-72d1-48a7-b6fb-c57f08feeee1",
   "metadata": {},
   "outputs": [],
   "source": [
    "apple_headlines = pd.read_csv('../../data/clean-data/apple-final-cleaned-headlines.csv')"
   ]
  },
  {
   "cell_type": "code",
   "execution_count": 7,
   "id": "958d079b-3d47-4b81-a210-29b50cda4dec",
   "metadata": {},
   "outputs": [
    {
     "data": {
      "text/html": [
       "<div>\n",
       "<style scoped>\n",
       "    .dataframe tbody tr th:only-of-type {\n",
       "        vertical-align: middle;\n",
       "    }\n",
       "\n",
       "    .dataframe tbody tr th {\n",
       "        vertical-align: top;\n",
       "    }\n",
       "\n",
       "    .dataframe thead th {\n",
       "        text-align: right;\n",
       "    }\n",
       "</style>\n",
       "<table border=\"1\" class=\"dataframe\">\n",
       "  <thead>\n",
       "    <tr style=\"text-align: right;\">\n",
       "      <th></th>\n",
       "      <th>date</th>\n",
       "      <th>company</th>\n",
       "      <th>cleaned_headline</th>\n",
       "      <th>sentiment</th>\n",
       "      <th>sentiment_score</th>\n",
       "    </tr>\n",
       "  </thead>\n",
       "  <tbody>\n",
       "    <tr>\n",
       "      <th>41</th>\n",
       "      <td>2025-05-28</td>\n",
       "      <td>AAPL</td>\n",
       "      <td>tata sons feels the heat as tcs shrinks divide...</td>\n",
       "      <td>negative</td>\n",
       "      <td>0.960512</td>\n",
       "    </tr>\n",
       "    <tr>\n",
       "      <th>83</th>\n",
       "      <td>2025-05-27</td>\n",
       "      <td>AAPL</td>\n",
       "      <td>stock market today futures rally as trump dela...</td>\n",
       "      <td>negative</td>\n",
       "      <td>0.753099</td>\n",
       "    </tr>\n",
       "    <tr>\n",
       "      <th>126</th>\n",
       "      <td>2025-05-26</td>\n",
       "      <td>AAPL</td>\n",
       "      <td>warren buffetts top 5 positions make up 7046 o...</td>\n",
       "      <td>neutral</td>\n",
       "      <td>0.944953</td>\n",
       "    </tr>\n",
       "    <tr>\n",
       "      <th>124</th>\n",
       "      <td>2025-05-26</td>\n",
       "      <td>AAPL</td>\n",
       "      <td>trumps targeting of apple isnt random analyst ...</td>\n",
       "      <td>neutral</td>\n",
       "      <td>0.786649</td>\n",
       "    </tr>\n",
       "    <tr>\n",
       "      <th>117</th>\n",
       "      <td>2025-05-26</td>\n",
       "      <td>AAPL</td>\n",
       "      <td>week ahead bond yields in focus as usjapan div...</td>\n",
       "      <td>positive</td>\n",
       "      <td>0.682323</td>\n",
       "    </tr>\n",
       "  </tbody>\n",
       "</table>\n",
       "</div>"
      ],
      "text/plain": [
       "           date company                                   cleaned_headline  \\\n",
       "41   2025-05-28    AAPL  tata sons feels the heat as tcs shrinks divide...   \n",
       "83   2025-05-27    AAPL  stock market today futures rally as trump dela...   \n",
       "126  2025-05-26    AAPL  warren buffetts top 5 positions make up 7046 o...   \n",
       "124  2025-05-26    AAPL  trumps targeting of apple isnt random analyst ...   \n",
       "117  2025-05-26    AAPL  week ahead bond yields in focus as usjapan div...   \n",
       "\n",
       "    sentiment  sentiment_score  \n",
       "41   negative         0.960512  \n",
       "83   negative         0.753099  \n",
       "126   neutral         0.944953  \n",
       "124   neutral         0.786649  \n",
       "117  positive         0.682323  "
      ]
     },
     "execution_count": 7,
     "metadata": {},
     "output_type": "execute_result"
    }
   ],
   "source": [
    "apple_headlines.sample(5)"
   ]
  },
  {
   "cell_type": "code",
   "execution_count": 8,
   "id": "7d03b177-881b-4419-b4da-bd9445f90400",
   "metadata": {},
   "outputs": [],
   "source": [
    "apple_headlines['date'] = pd.to_datetime(apple_headlines['date'])"
   ]
  },
  {
   "cell_type": "code",
   "execution_count": 9,
   "id": "5ec036b4-6356-4e88-939b-f50118c575dd",
   "metadata": {},
   "outputs": [],
   "source": [
    "reddit = pd.read_csv('../../data/clean-data/cleaned_reddit_v2.csv')\n",
    "reddit.drop('Unnamed: 0', axis = 1, inplace = True)"
   ]
  },
  {
   "cell_type": "code",
   "execution_count": 10,
   "id": "0c00be1a-7661-482f-a864-d11d83ff2b6a",
   "metadata": {},
   "outputs": [],
   "source": [
    "reddit = reddit[reddit['tickers_mentioned'].str.contains('AAPL', na=False)]"
   ]
  },
  {
   "cell_type": "code",
   "execution_count": 11,
   "id": "ba25f1d7-2d95-4aef-acf1-22ac5cfba4cc",
   "metadata": {},
   "outputs": [],
   "source": [
    "reddit['date'] = pd.to_datetime(reddit['date'])"
   ]
  },
  {
   "cell_type": "code",
   "execution_count": 12,
   "id": "9ab5e28e-f24a-4a95-b17d-1777e104dd16",
   "metadata": {},
   "outputs": [],
   "source": [
    "reddit['date'] = reddit['date'] + pd.Timedelta(days=1)\n",
    "apple_headlines['date'] = apple_headlines['date'] + pd.Timedelta(days=1)"
   ]
  },
  {
   "cell_type": "code",
   "execution_count": 13,
   "id": "e5a68d6d-2b20-4db0-8839-98f7652e773c",
   "metadata": {},
   "outputs": [],
   "source": [
    "merged = pd.merge(\n",
    "    apple,\n",
    "    reddit,\n",
    "    how='left',\n",
    "    left_on='Date',\n",
    "    right_on='date',\n",
    "    suffixes=('', '_reddit')\n",
    ")\n",
    "merged.drop(columns=['date'], inplace=True)"
   ]
  },
  {
   "cell_type": "code",
   "execution_count": 14,
   "id": "2f2d4cdb-2d7c-4259-9b62-8f41e0748cd1",
   "metadata": {},
   "outputs": [],
   "source": [
    "merged = pd.merge(\n",
    "    merged,\n",
    "    apple_headlines,\n",
    "    how='left',\n",
    "    left_on='Date',\n",
    "    right_on='date',\n",
    "    suffixes=('', '_news')\n",
    ")\n",
    "merged.drop(columns=['date'], inplace=True)"
   ]
  },
  {
   "cell_type": "code",
   "execution_count": 15,
   "id": "b0c05318-867e-461f-b1b6-14d4d7e15930",
   "metadata": {},
   "outputs": [],
   "source": [
    "merged.sort_values('Date', inplace=True)\n",
    "merged.reset_index(drop=True, inplace=True)"
   ]
  },
  {
   "cell_type": "code",
   "execution_count": 16,
   "id": "7a39d504-8165-4cef-82f7-ebb4f84095db",
   "metadata": {},
   "outputs": [],
   "source": [
    "merged['tickers_mentioned'] = 'AAPL'"
   ]
  },
  {
   "cell_type": "code",
   "execution_count": 17,
   "id": "f348e029-52bf-4ce7-8af2-2536f004e4ef",
   "metadata": {},
   "outputs": [],
   "source": [
    "merged.drop('company', axis = 1, inplace = True)"
   ]
  },
  {
   "cell_type": "code",
   "execution_count": 18,
   "id": "34f309ca-2ae4-4422-a9a6-c368b91df249",
   "metadata": {},
   "outputs": [],
   "source": [
    "merged.to_csv('../../data/merged-data/apple-merged.csv', index=False)"
   ]
  },
  {
   "cell_type": "code",
   "execution_count": null,
   "id": "d401e887-7932-43df-95c9-43326db6c693",
   "metadata": {},
   "outputs": [],
   "source": []
  }
 ],
 "metadata": {
  "kernelspec": {
   "display_name": "Python 3 (ipykernel)",
   "language": "python",
   "name": "python3"
  },
  "language_info": {
   "codemirror_mode": {
    "name": "ipython",
    "version": 3
   },
   "file_extension": ".py",
   "mimetype": "text/x-python",
   "name": "python",
   "nbconvert_exporter": "python",
   "pygments_lexer": "ipython3",
   "version": "3.12.9"
  }
 },
 "nbformat": 4,
 "nbformat_minor": 5
}
