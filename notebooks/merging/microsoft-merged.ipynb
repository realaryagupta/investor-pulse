{
 "cells": [
  {
   "cell_type": "code",
   "execution_count": 1,
   "id": "86356873-e372-44cb-bc0d-22e5f0d17cc7",
   "metadata": {},
   "outputs": [],
   "source": [
    "import pandas as pd"
   ]
  },
  {
   "cell_type": "code",
   "execution_count": 4,
   "id": "1fed354a-41d3-45c0-b888-344758aa2d80",
   "metadata": {},
   "outputs": [],
   "source": [
    "microsoft = pd.read_csv('../../data/scraped-data/MSFT_daily_2025.csv')\n",
    "microsoft.drop(microsoft.index[0], inplace=True)"
   ]
  },
  {
   "cell_type": "code",
   "execution_count": 5,
   "id": "62594b6f-e6f9-44ce-96cd-65f1808ab519",
   "metadata": {},
   "outputs": [],
   "source": [
    "microsoft['Date'] = pd.to_datetime(microsoft['Date'])\n",
    "microsoft['Open'] = microsoft['Open'].astype(float)\n",
    "microsoft['High'] = microsoft['High'].astype(float)\n",
    "microsoft['Low'] = microsoft['Low'].astype(float)\n",
    "microsoft['Close'] = microsoft['Close'].astype(float)\n",
    "microsoft['Volume'] = microsoft['Volume'].astype(float)"
   ]
  },
  {
   "cell_type": "code",
   "execution_count": 6,
   "id": "199f6cd1-897e-40d7-85bb-9fc23ab7fcaf",
   "metadata": {},
   "outputs": [],
   "source": [
    "microsoft_headlines = pd.read_csv('../../data/clean-data/microsoft-final-cleaned-headlines.csv')"
   ]
  },
  {
   "cell_type": "code",
   "execution_count": 7,
   "id": "54e83e6f-18d1-49c4-9884-4ecc4b2daf85",
   "metadata": {},
   "outputs": [],
   "source": [
    "microsoft_headlines['date'] = pd.to_datetime(microsoft_headlines['date'])"
   ]
  },
  {
   "cell_type": "code",
   "execution_count": 8,
   "id": "f0121ae6-3520-4794-84a7-8f256a40c64b",
   "metadata": {},
   "outputs": [],
   "source": [
    "reddit = pd.read_csv('../../data/clean-data/cleaned_reddit_v2.csv')\n",
    "reddit.drop('Unnamed: 0', axis = 1, inplace = True)"
   ]
  },
  {
   "cell_type": "code",
   "execution_count": 12,
   "id": "7694d6b2-8a05-4c03-aa04-4f350395c659",
   "metadata": {},
   "outputs": [
    {
     "data": {
      "text/html": [
       "<div>\n",
       "<style scoped>\n",
       "    .dataframe tbody tr th:only-of-type {\n",
       "        vertical-align: middle;\n",
       "    }\n",
       "\n",
       "    .dataframe tbody tr th {\n",
       "        vertical-align: top;\n",
       "    }\n",
       "\n",
       "    .dataframe thead th {\n",
       "        text-align: right;\n",
       "    }\n",
       "</style>\n",
       "<table border=\"1\" class=\"dataframe\">\n",
       "  <thead>\n",
       "    <tr style=\"text-align: right;\">\n",
       "      <th></th>\n",
       "      <th>author</th>\n",
       "      <th>date</th>\n",
       "      <th>score</th>\n",
       "      <th>subreddit</th>\n",
       "      <th>tickers_mentioned</th>\n",
       "      <th>clean_text</th>\n",
       "      <th>compound</th>\n",
       "      <th>sentiment</th>\n",
       "    </tr>\n",
       "  </thead>\n",
       "  <tbody>\n",
       "    <tr>\n",
       "      <th>72</th>\n",
       "      <td>astokx</td>\n",
       "      <td>2025-05-21</td>\n",
       "      <td>135</td>\n",
       "      <td>stocks</td>\n",
       "      <td>NVDA</td>\n",
       "      <td>why is my 4x leveraged nvda etf still down eve...</td>\n",
       "      <td>-0.7783</td>\n",
       "      <td>negative</td>\n",
       "    </tr>\n",
       "    <tr>\n",
       "      <th>106</th>\n",
       "      <td>hailx3</td>\n",
       "      <td>2025-05-27</td>\n",
       "      <td>26</td>\n",
       "      <td>wallstreetbets</td>\n",
       "      <td>NVDA</td>\n",
       "      <td>nvda earning yolo after the successful tsla yo...</td>\n",
       "      <td>0.8777</td>\n",
       "      <td>positive</td>\n",
       "    </tr>\n",
       "    <tr>\n",
       "      <th>85</th>\n",
       "      <td>spellbreaker</td>\n",
       "      <td>2025-05-23</td>\n",
       "      <td>759</td>\n",
       "      <td>wallstreetbets</td>\n",
       "      <td>GOOGL</td>\n",
       "      <td>thanks googl</td>\n",
       "      <td>0.4404</td>\n",
       "      <td>positive</td>\n",
       "    </tr>\n",
       "    <tr>\n",
       "      <th>58</th>\n",
       "      <td>binarydichotomy</td>\n",
       "      <td>2025-05-17</td>\n",
       "      <td>5</td>\n",
       "      <td>investing</td>\n",
       "      <td>MSFT</td>\n",
       "      <td>experienced trader looking for advice on tools...</td>\n",
       "      <td>0.9977</td>\n",
       "      <td>positive</td>\n",
       "    </tr>\n",
       "    <tr>\n",
       "      <th>13</th>\n",
       "      <td>isbreadacarb</td>\n",
       "      <td>2025-05-07</td>\n",
       "      <td>38</td>\n",
       "      <td>stocks</td>\n",
       "      <td>NVDA</td>\n",
       "      <td>whats everyones average price for google and n...</td>\n",
       "      <td>0.5542</td>\n",
       "      <td>positive</td>\n",
       "    </tr>\n",
       "  </tbody>\n",
       "</table>\n",
       "</div>"
      ],
      "text/plain": [
       "              author        date  score       subreddit tickers_mentioned  \\\n",
       "72            astokx  2025-05-21    135          stocks              NVDA   \n",
       "106           hailx3  2025-05-27     26  wallstreetbets              NVDA   \n",
       "85      spellbreaker  2025-05-23    759  wallstreetbets             GOOGL   \n",
       "58   binarydichotomy  2025-05-17      5       investing              MSFT   \n",
       "13      isbreadacarb  2025-05-07     38          stocks              NVDA   \n",
       "\n",
       "                                            clean_text  compound sentiment  \n",
       "72   why is my 4x leveraged nvda etf still down eve...   -0.7783  negative  \n",
       "106  nvda earning yolo after the successful tsla yo...    0.8777  positive  \n",
       "85                                        thanks googl    0.4404  positive  \n",
       "58   experienced trader looking for advice on tools...    0.9977  positive  \n",
       "13   whats everyones average price for google and n...    0.5542  positive  "
      ]
     },
     "execution_count": 12,
     "metadata": {},
     "output_type": "execute_result"
    }
   ],
   "source": [
    "reddit.sample(5)"
   ]
  },
  {
   "cell_type": "code",
   "execution_count": 13,
   "id": "3857ae9c-bc2d-4122-b2c4-c890f1f6caa1",
   "metadata": {},
   "outputs": [],
   "source": [
    "reddit = reddit[reddit['tickers_mentioned'].str.contains('MSFT', na=False)]"
   ]
  },
  {
   "cell_type": "code",
   "execution_count": 14,
   "id": "2f5d7dde-90b1-49ff-a176-c25582cabf40",
   "metadata": {},
   "outputs": [],
   "source": [
    "reddit['date'] = pd.to_datetime(reddit['date'])"
   ]
  },
  {
   "cell_type": "code",
   "execution_count": 15,
   "id": "0cd8799d-47f9-404f-b6f3-bdc814fd7723",
   "metadata": {},
   "outputs": [],
   "source": [
    "reddit['date'] = reddit['date'] + pd.Timedelta(days=1)\n",
    "microsoft_headlines['date'] = microsoft_headlines['date'] + pd.Timedelta(days=1)"
   ]
  },
  {
   "cell_type": "code",
   "execution_count": 16,
   "id": "055758b0-2753-48e9-8601-6277e1e137c8",
   "metadata": {},
   "outputs": [],
   "source": [
    "merged = pd.merge(\n",
    "    microsoft,\n",
    "    reddit,\n",
    "    how='left',\n",
    "    left_on='Date',\n",
    "    right_on='date',\n",
    "    suffixes=('', '_reddit')\n",
    ")\n",
    "merged.drop(columns=['date'], inplace=True)"
   ]
  },
  {
   "cell_type": "code",
   "execution_count": 17,
   "id": "605b77c9-1311-4ca2-a990-e888b0c82df1",
   "metadata": {},
   "outputs": [],
   "source": [
    "merged = pd.merge(\n",
    "    merged,\n",
    "    microsoft_headlines,\n",
    "    how='left',\n",
    "    left_on='Date',\n",
    "    right_on='date',\n",
    "    suffixes=('', '_news')\n",
    ")\n",
    "merged.drop(columns=['date'], inplace=True)"
   ]
  },
  {
   "cell_type": "code",
   "execution_count": 18,
   "id": "dbc94732-6b51-4d09-b757-6022af732939",
   "metadata": {},
   "outputs": [],
   "source": [
    "merged.sort_values('Date', inplace=True)\n",
    "merged.reset_index(drop=True, inplace=True)"
   ]
  },
  {
   "cell_type": "code",
   "execution_count": 19,
   "id": "22309c7e-7f4d-4f36-9a00-5dea6f983c4d",
   "metadata": {},
   "outputs": [],
   "source": [
    "merged['tickers_mentioned'] = 'MSFT'"
   ]
  },
  {
   "cell_type": "code",
   "execution_count": 20,
   "id": "bc84e1be-bf6b-48a8-8e9e-b486219798e8",
   "metadata": {},
   "outputs": [],
   "source": [
    "merged.drop('company', axis = 1, inplace = True)"
   ]
  },
  {
   "cell_type": "code",
   "execution_count": 21,
   "id": "d71334a8-d53a-4178-be5f-e5593790fd4c",
   "metadata": {},
   "outputs": [],
   "source": [
    "merged.to_csv('../../data/merged-data/microsoft-merged.csv', index=False)"
   ]
  },
  {
   "cell_type": "code",
   "execution_count": null,
   "id": "cb793be9-160d-4cb8-af54-09cc5e40ac68",
   "metadata": {},
   "outputs": [],
   "source": []
  }
 ],
 "metadata": {
  "kernelspec": {
   "display_name": "Python 3 (ipykernel)",
   "language": "python",
   "name": "python3"
  },
  "language_info": {
   "codemirror_mode": {
    "name": "ipython",
    "version": 3
   },
   "file_extension": ".py",
   "mimetype": "text/x-python",
   "name": "python",
   "nbconvert_exporter": "python",
   "pygments_lexer": "ipython3",
   "version": "3.12.9"
  }
 },
 "nbformat": 4,
 "nbformat_minor": 5
}
