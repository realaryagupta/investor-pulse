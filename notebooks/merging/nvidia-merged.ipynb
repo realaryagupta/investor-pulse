{
 "cells": [
  {
   "cell_type": "code",
   "execution_count": 22,
   "id": "0e3594d3-d10b-4bc5-94be-74316b94fe9a",
   "metadata": {},
   "outputs": [],
   "source": [
    "import pandas as pd"
   ]
  },
  {
   "cell_type": "code",
   "execution_count": 31,
   "id": "8566e1c9-b798-4b5f-a7e5-ad9f80e7f6e2",
   "metadata": {},
   "outputs": [],
   "source": [
    "nvidia = pd.read_csv('../../data/scraped-data/NVDA_daily_2025.csv')\n",
    "nvidia.drop(nvidia.index[0], inplace=True)"
   ]
  },
  {
   "cell_type": "code",
   "execution_count": 33,
   "id": "b574884b-4366-443a-a081-11e58caef5cb",
   "metadata": {},
   "outputs": [],
   "source": [
    "nvidia['Date'] = pd.to_datetime(nvidia['Date'])\n",
    "nvidia['Open'] = nvidia['Open'].astype(float)\n",
    "nvidia['High'] = nvidia['High'].astype(float)\n",
    "nvidia['Low'] = nvidia['Low'].astype(float)\n",
    "nvidia['Close'] = nvidia['Close'].astype(float)\n",
    "nvidia['Volume'] = nvidia['Volume'].astype(float)"
   ]
  },
  {
   "cell_type": "code",
   "execution_count": 35,
   "id": "5de478c4-23da-41d1-8390-464133211bad",
   "metadata": {},
   "outputs": [],
   "source": [
    "nvidia_headlines = pd.read_csv('../../data/clean-data/nvidia-final-cleaned-headlines.csv')"
   ]
  },
  {
   "cell_type": "code",
   "execution_count": 36,
   "id": "26ee4af2-9f63-493b-84c3-029b31fc730f",
   "metadata": {},
   "outputs": [],
   "source": [
    "nvidia_headlines['date'] = pd.to_datetime(nvidia_headlines['date'])"
   ]
  },
  {
   "cell_type": "code",
   "execution_count": 37,
   "id": "99f60131-6c24-4243-a00f-7125119d8796",
   "metadata": {},
   "outputs": [],
   "source": [
    "reddit = pd.read_csv('../../data/clean-data/cleaned_reddit_v2.csv')\n",
    "reddit.drop('Unnamed: 0', axis = 1, inplace = True)"
   ]
  },
  {
   "cell_type": "code",
   "execution_count": 38,
   "id": "b0c46290-e70b-4739-87f3-4b876c955db8",
   "metadata": {},
   "outputs": [],
   "source": [
    "reddit = reddit[reddit['tickers_mentioned'].str.contains('NVDA', na=False)]"
   ]
  },
  {
   "cell_type": "code",
   "execution_count": 39,
   "id": "fc4cfac0-9d83-45e6-add4-730f71a75270",
   "metadata": {},
   "outputs": [],
   "source": [
    "reddit['date'] = pd.to_datetime(reddit['date'])"
   ]
  },
  {
   "cell_type": "code",
   "execution_count": 40,
   "id": "e3d85d73-5830-49aa-af68-a56a0e8b107d",
   "metadata": {},
   "outputs": [],
   "source": [
    "reddit['date'] = reddit['date'] + pd.Timedelta(days=1)\n",
    "nvidia_headlines['date'] = nvidia_headlines['date'] + pd.Timedelta(days=1)"
   ]
  },
  {
   "cell_type": "code",
   "execution_count": 41,
   "id": "746237da-6e45-4c48-900a-b14e1089482f",
   "metadata": {},
   "outputs": [],
   "source": [
    "merged = pd.merge(\n",
    "    nvidia,\n",
    "    reddit,\n",
    "    how='left',\n",
    "    left_on='Date',\n",
    "    right_on='date',\n",
    "    suffixes=('', '_reddit')\n",
    ")\n",
    "merged.drop(columns=['date'], inplace=True)"
   ]
  },
  {
   "cell_type": "code",
   "execution_count": 42,
   "id": "c7a75050-31cc-48e3-94bb-78d33f186c4c",
   "metadata": {},
   "outputs": [],
   "source": [
    "merged = pd.merge(\n",
    "    merged,\n",
    "    nvidia_headlines,\n",
    "    how='left',\n",
    "    left_on='Date',\n",
    "    right_on='date',\n",
    "    suffixes=('', '_news')\n",
    ")\n",
    "merged.drop(columns=['date'], inplace=True)"
   ]
  },
  {
   "cell_type": "code",
   "execution_count": 43,
   "id": "c37b3299-78ec-4aa8-8a1a-e693f612f84d",
   "metadata": {},
   "outputs": [],
   "source": [
    "merged.sort_values('Date', inplace=True)\n",
    "merged.reset_index(drop=True, inplace=True)"
   ]
  },
  {
   "cell_type": "code",
   "execution_count": 44,
   "id": "416450ef-ce7f-419d-b808-ca30015abe51",
   "metadata": {},
   "outputs": [
    {
     "data": {
      "text/html": [
       "<div>\n",
       "<style scoped>\n",
       "    .dataframe tbody tr th:only-of-type {\n",
       "        vertical-align: middle;\n",
       "    }\n",
       "\n",
       "    .dataframe tbody tr th {\n",
       "        vertical-align: top;\n",
       "    }\n",
       "\n",
       "    .dataframe thead th {\n",
       "        text-align: right;\n",
       "    }\n",
       "</style>\n",
       "<table border=\"1\" class=\"dataframe\">\n",
       "  <thead>\n",
       "    <tr style=\"text-align: right;\">\n",
       "      <th></th>\n",
       "      <th>Date</th>\n",
       "      <th>Open</th>\n",
       "      <th>High</th>\n",
       "      <th>Low</th>\n",
       "      <th>Close</th>\n",
       "      <th>Volume</th>\n",
       "      <th>author</th>\n",
       "      <th>score</th>\n",
       "      <th>subreddit</th>\n",
       "      <th>tickers_mentioned</th>\n",
       "      <th>clean_text</th>\n",
       "      <th>compound</th>\n",
       "      <th>sentiment</th>\n",
       "      <th>company</th>\n",
       "      <th>cleaned_headline</th>\n",
       "      <th>sentiment_news</th>\n",
       "      <th>sentiment_score</th>\n",
       "    </tr>\n",
       "  </thead>\n",
       "  <tbody>\n",
       "    <tr>\n",
       "      <th>1417</th>\n",
       "      <td>2025-05-30</td>\n",
       "      <td>138.720001</td>\n",
       "      <td>139.619995</td>\n",
       "      <td>132.919998</td>\n",
       "      <td>135.130005</td>\n",
       "      <td>333170900.0</td>\n",
       "      <td>daydreamer1015</td>\n",
       "      <td>472.0</td>\n",
       "      <td>stocks</td>\n",
       "      <td>NVDA</td>\n",
       "      <td>rddt reddit is a major buy now dont wait reddi...</td>\n",
       "      <td>0.8402</td>\n",
       "      <td>positive</td>\n",
       "      <td>NVDA</td>\n",
       "      <td>sp 500 bulls eyeing next leg up amid nvidia ea...</td>\n",
       "      <td>neutral</td>\n",
       "      <td>0.497650</td>\n",
       "    </tr>\n",
       "    <tr>\n",
       "      <th>1533</th>\n",
       "      <td>2025-05-30</td>\n",
       "      <td>138.720001</td>\n",
       "      <td>139.619995</td>\n",
       "      <td>132.919998</td>\n",
       "      <td>135.130005</td>\n",
       "      <td>333170900.0</td>\n",
       "      <td>winningwatchlist</td>\n",
       "      <td>4.0</td>\n",
       "      <td>stocks</td>\n",
       "      <td>NVDA</td>\n",
       "      <td>0529 tariffs and teslas and takeovers nvda is ...</td>\n",
       "      <td>0.9925</td>\n",
       "      <td>positive</td>\n",
       "      <td>NVDA</td>\n",
       "      <td>nvidia in spotlight as wall street praises ver...</td>\n",
       "      <td>positive</td>\n",
       "      <td>0.934864</td>\n",
       "    </tr>\n",
       "    <tr>\n",
       "      <th>1650</th>\n",
       "      <td>2025-05-30</td>\n",
       "      <td>138.720001</td>\n",
       "      <td>139.619995</td>\n",
       "      <td>132.919998</td>\n",
       "      <td>135.130005</td>\n",
       "      <td>333170900.0</td>\n",
       "      <td>wilbo75771</td>\n",
       "      <td>69.0</td>\n",
       "      <td>wallstreetbets</td>\n",
       "      <td>NVDA</td>\n",
       "      <td>nvidias ai dominance is solid q1 data center b...</td>\n",
       "      <td>0.8639</td>\n",
       "      <td>positive</td>\n",
       "      <td>NVDA</td>\n",
       "      <td>hopper is no longer an option but that is okay...</td>\n",
       "      <td>neutral</td>\n",
       "      <td>0.896914</td>\n",
       "    </tr>\n",
       "    <tr>\n",
       "      <th>195</th>\n",
       "      <td>2025-05-28</td>\n",
       "      <td>136.029999</td>\n",
       "      <td>137.250000</td>\n",
       "      <td>134.789993</td>\n",
       "      <td>134.809998</td>\n",
       "      <td>304021100.0</td>\n",
       "      <td>hailx3</td>\n",
       "      <td>26.0</td>\n",
       "      <td>wallstreetbets</td>\n",
       "      <td>NVDA</td>\n",
       "      <td>nvda earning yolo after the successful tsla yo...</td>\n",
       "      <td>0.8777</td>\n",
       "      <td>positive</td>\n",
       "      <td>NVDA</td>\n",
       "      <td>nvidia stock ahead of earnings is a massive br...</td>\n",
       "      <td>neutral</td>\n",
       "      <td>0.734094</td>\n",
       "    </tr>\n",
       "    <tr>\n",
       "      <th>125</th>\n",
       "      <td>2025-05-23</td>\n",
       "      <td>130.000000</td>\n",
       "      <td>132.679993</td>\n",
       "      <td>129.160004</td>\n",
       "      <td>131.289993</td>\n",
       "      <td>198821300.0</td>\n",
       "      <td>aggressive_abies_738</td>\n",
       "      <td>37.0</td>\n",
       "      <td>investing</td>\n",
       "      <td>NVDA</td>\n",
       "      <td>im scared michael burry is betting against the...</td>\n",
       "      <td>-0.9224</td>\n",
       "      <td>negative</td>\n",
       "      <td>NaN</td>\n",
       "      <td>NaN</td>\n",
       "      <td>NaN</td>\n",
       "      <td>NaN</td>\n",
       "    </tr>\n",
       "  </tbody>\n",
       "</table>\n",
       "</div>"
      ],
      "text/plain": [
       "           Date        Open        High         Low       Close       Volume  \\\n",
       "1417 2025-05-30  138.720001  139.619995  132.919998  135.130005  333170900.0   \n",
       "1533 2025-05-30  138.720001  139.619995  132.919998  135.130005  333170900.0   \n",
       "1650 2025-05-30  138.720001  139.619995  132.919998  135.130005  333170900.0   \n",
       "195  2025-05-28  136.029999  137.250000  134.789993  134.809998  304021100.0   \n",
       "125  2025-05-23  130.000000  132.679993  129.160004  131.289993  198821300.0   \n",
       "\n",
       "                    author  score       subreddit tickers_mentioned  \\\n",
       "1417        daydreamer1015  472.0          stocks              NVDA   \n",
       "1533      winningwatchlist    4.0          stocks              NVDA   \n",
       "1650            wilbo75771   69.0  wallstreetbets              NVDA   \n",
       "195                 hailx3   26.0  wallstreetbets              NVDA   \n",
       "125   aggressive_abies_738   37.0       investing              NVDA   \n",
       "\n",
       "                                             clean_text  compound sentiment  \\\n",
       "1417  rddt reddit is a major buy now dont wait reddi...    0.8402  positive   \n",
       "1533  0529 tariffs and teslas and takeovers nvda is ...    0.9925  positive   \n",
       "1650  nvidias ai dominance is solid q1 data center b...    0.8639  positive   \n",
       "195   nvda earning yolo after the successful tsla yo...    0.8777  positive   \n",
       "125   im scared michael burry is betting against the...   -0.9224  negative   \n",
       "\n",
       "     company                                   cleaned_headline  \\\n",
       "1417    NVDA  sp 500 bulls eyeing next leg up amid nvidia ea...   \n",
       "1533    NVDA  nvidia in spotlight as wall street praises ver...   \n",
       "1650    NVDA  hopper is no longer an option but that is okay...   \n",
       "195     NVDA  nvidia stock ahead of earnings is a massive br...   \n",
       "125      NaN                                                NaN   \n",
       "\n",
       "     sentiment_news  sentiment_score  \n",
       "1417        neutral         0.497650  \n",
       "1533       positive         0.934864  \n",
       "1650        neutral         0.896914  \n",
       "195         neutral         0.734094  \n",
       "125             NaN              NaN  "
      ]
     },
     "execution_count": 44,
     "metadata": {},
     "output_type": "execute_result"
    }
   ],
   "source": [
    "merged.sample(5)"
   ]
  },
  {
   "cell_type": "code",
   "execution_count": 45,
   "id": "9ff47e6a-2a5b-4bea-b75c-6f9eda89fbd6",
   "metadata": {},
   "outputs": [],
   "source": [
    "merged['tickers_mentioned'] = 'NVDA'"
   ]
  },
  {
   "cell_type": "code",
   "execution_count": 46,
   "id": "176c3842-664a-46df-ae1a-819662b8094e",
   "metadata": {},
   "outputs": [],
   "source": [
    "merged.drop('company', axis = 1, inplace = True)"
   ]
  },
  {
   "cell_type": "code",
   "execution_count": 47,
   "id": "90b245ec-d9b4-450c-8069-011d15e70997",
   "metadata": {},
   "outputs": [],
   "source": [
    "merged.to_csv('../../data/merged-data/nvidia-merged.csv', index=False)"
   ]
  },
  {
   "cell_type": "code",
   "execution_count": null,
   "id": "d26670f3-746d-4331-8f2a-12f03957eb1e",
   "metadata": {},
   "outputs": [],
   "source": []
  }
 ],
 "metadata": {
  "kernelspec": {
   "display_name": "Python 3 (ipykernel)",
   "language": "python",
   "name": "python3"
  },
  "language_info": {
   "codemirror_mode": {
    "name": "ipython",
    "version": 3
   },
   "file_extension": ".py",
   "mimetype": "text/x-python",
   "name": "python",
   "nbconvert_exporter": "python",
   "pygments_lexer": "ipython3",
   "version": "3.12.9"
  }
 },
 "nbformat": 4,
 "nbformat_minor": 5
}
