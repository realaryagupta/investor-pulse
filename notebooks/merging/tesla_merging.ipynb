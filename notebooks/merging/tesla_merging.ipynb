{
 "cells": [
  {
   "cell_type": "code",
   "execution_count": 1,
   "id": "563d1e36-9fe9-46ca-89e2-a30c1ef417ac",
   "metadata": {},
   "outputs": [],
   "source": [
    "import pandas as pd"
   ]
  },
  {
   "cell_type": "code",
   "execution_count": 56,
   "id": "a68dc1fd-f21c-4058-903b-8a59dfbbfd56",
   "metadata": {},
   "outputs": [],
   "source": [
    "tesla = pd.read_csv('../../data/scraped-data/TSLA_daily_2025.csv')\n",
    "tesla.drop(tesla.index[0], inplace=True)"
   ]
  },
  {
   "cell_type": "code",
   "execution_count": 57,
   "id": "17b92770-0dd5-4bb5-a025-e9b00ae89179",
   "metadata": {},
   "outputs": [
    {
     "data": {
      "text/html": [
       "<div>\n",
       "<style scoped>\n",
       "    .dataframe tbody tr th:only-of-type {\n",
       "        vertical-align: middle;\n",
       "    }\n",
       "\n",
       "    .dataframe tbody tr th {\n",
       "        vertical-align: top;\n",
       "    }\n",
       "\n",
       "    .dataframe thead th {\n",
       "        text-align: right;\n",
       "    }\n",
       "</style>\n",
       "<table border=\"1\" class=\"dataframe\">\n",
       "  <thead>\n",
       "    <tr style=\"text-align: right;\">\n",
       "      <th></th>\n",
       "      <th>Date</th>\n",
       "      <th>Open</th>\n",
       "      <th>High</th>\n",
       "      <th>Low</th>\n",
       "      <th>Close</th>\n",
       "      <th>Volume</th>\n",
       "    </tr>\n",
       "  </thead>\n",
       "  <tbody>\n",
       "    <tr>\n",
       "      <th>1</th>\n",
       "      <td>2025-01-02</td>\n",
       "      <td>390.1000061035156</td>\n",
       "      <td>392.7300109863281</td>\n",
       "      <td>373.0400085449219</td>\n",
       "      <td>379.2799987792969</td>\n",
       "      <td>109710700</td>\n",
       "    </tr>\n",
       "    <tr>\n",
       "      <th>2</th>\n",
       "      <td>2025-01-03</td>\n",
       "      <td>381.4800109863281</td>\n",
       "      <td>411.8800048828125</td>\n",
       "      <td>379.45001220703125</td>\n",
       "      <td>410.44000244140625</td>\n",
       "      <td>95423300</td>\n",
       "    </tr>\n",
       "    <tr>\n",
       "      <th>3</th>\n",
       "      <td>2025-01-06</td>\n",
       "      <td>423.20001220703125</td>\n",
       "      <td>426.42999267578125</td>\n",
       "      <td>401.70001220703125</td>\n",
       "      <td>411.04998779296875</td>\n",
       "      <td>85516500</td>\n",
       "    </tr>\n",
       "    <tr>\n",
       "      <th>4</th>\n",
       "      <td>2025-01-07</td>\n",
       "      <td>405.8299865722656</td>\n",
       "      <td>414.3299865722656</td>\n",
       "      <td>390.0</td>\n",
       "      <td>394.3599853515625</td>\n",
       "      <td>75699500</td>\n",
       "    </tr>\n",
       "    <tr>\n",
       "      <th>5</th>\n",
       "      <td>2025-01-08</td>\n",
       "      <td>392.95001220703125</td>\n",
       "      <td>402.5</td>\n",
       "      <td>387.3999938964844</td>\n",
       "      <td>394.94000244140625</td>\n",
       "      <td>73038800</td>\n",
       "    </tr>\n",
       "  </tbody>\n",
       "</table>\n",
       "</div>"
      ],
      "text/plain": [
       "         Date                Open                High                 Low  \\\n",
       "1  2025-01-02   390.1000061035156   392.7300109863281   373.0400085449219   \n",
       "2  2025-01-03   381.4800109863281   411.8800048828125  379.45001220703125   \n",
       "3  2025-01-06  423.20001220703125  426.42999267578125  401.70001220703125   \n",
       "4  2025-01-07   405.8299865722656   414.3299865722656               390.0   \n",
       "5  2025-01-08  392.95001220703125               402.5   387.3999938964844   \n",
       "\n",
       "                Close     Volume  \n",
       "1   379.2799987792969  109710700  \n",
       "2  410.44000244140625   95423300  \n",
       "3  411.04998779296875   85516500  \n",
       "4   394.3599853515625   75699500  \n",
       "5  394.94000244140625   73038800  "
      ]
     },
     "execution_count": 57,
     "metadata": {},
     "output_type": "execute_result"
    }
   ],
   "source": [
    "tesla.head()"
   ]
  },
  {
   "cell_type": "code",
   "execution_count": 58,
   "id": "85d5ceac-05fe-4146-bd27-e058085a8fea",
   "metadata": {},
   "outputs": [],
   "source": [
    "tesla['Date'] = pd.to_datetime(tesla['Date'])\n",
    "tesla['Open'] = tesla['Open'].astype(float)\n",
    "tesla['High'] = tesla['High'].astype(float)\n",
    "tesla['Low'] = tesla['Low'].astype(float)\n",
    "tesla['Close'] = tesla['Close'].astype(float)\n",
    "tesla['Volume'] = tesla['Volume'].astype(int)"
   ]
  },
  {
   "cell_type": "code",
   "execution_count": 59,
   "id": "4617a942-5529-4600-b0ec-4729ce7cfa80",
   "metadata": {},
   "outputs": [
    {
     "name": "stdout",
     "output_type": "stream",
     "text": [
      "<class 'pandas.core.frame.DataFrame'>\n",
      "RangeIndex: 102 entries, 1 to 102\n",
      "Data columns (total 6 columns):\n",
      " #   Column  Non-Null Count  Dtype         \n",
      "---  ------  --------------  -----         \n",
      " 0   Date    102 non-null    datetime64[ns]\n",
      " 1   Open    102 non-null    float64       \n",
      " 2   High    102 non-null    float64       \n",
      " 3   Low     102 non-null    float64       \n",
      " 4   Close   102 non-null    float64       \n",
      " 5   Volume  102 non-null    int64         \n",
      "dtypes: datetime64[ns](1), float64(4), int64(1)\n",
      "memory usage: 4.9 KB\n"
     ]
    }
   ],
   "source": [
    "tesla.info()"
   ]
  },
  {
   "cell_type": "code",
   "execution_count": 60,
   "id": "e36caf27-b31c-4f4a-9b3b-12b01abc1f25",
   "metadata": {},
   "outputs": [],
   "source": [
    "reddit = pd.read_csv('../../data/clean-data/cleaned_reddit.csv')\n",
    "reddit.drop('Unnamed: 0', axis = 1, inplace = True)"
   ]
  },
  {
   "cell_type": "code",
   "execution_count": 61,
   "id": "ae08d6a4-fb0b-48b3-8585-df118007da86",
   "metadata": {},
   "outputs": [
    {
     "data": {
      "text/html": [
       "<div>\n",
       "<style scoped>\n",
       "    .dataframe tbody tr th:only-of-type {\n",
       "        vertical-align: middle;\n",
       "    }\n",
       "\n",
       "    .dataframe tbody tr th {\n",
       "        vertical-align: top;\n",
       "    }\n",
       "\n",
       "    .dataframe thead th {\n",
       "        text-align: right;\n",
       "    }\n",
       "</style>\n",
       "<table border=\"1\" class=\"dataframe\">\n",
       "  <thead>\n",
       "    <tr style=\"text-align: right;\">\n",
       "      <th></th>\n",
       "      <th>score</th>\n",
       "      <th>subreddit</th>\n",
       "      <th>tickers_mentioned</th>\n",
       "      <th>date</th>\n",
       "      <th>clean_text</th>\n",
       "      <th>compound</th>\n",
       "      <th>sentiment</th>\n",
       "    </tr>\n",
       "  </thead>\n",
       "  <tbody>\n",
       "    <tr>\n",
       "      <th>0</th>\n",
       "      <td>0</td>\n",
       "      <td>investing</td>\n",
       "      <td>NVDA</td>\n",
       "      <td>2025-05-30</td>\n",
       "      <td>sold hood and started positions in apple googl...</td>\n",
       "      <td>0.9289</td>\n",
       "      <td>positive</td>\n",
       "    </tr>\n",
       "    <tr>\n",
       "      <th>1</th>\n",
       "      <td>6</td>\n",
       "      <td>investing</td>\n",
       "      <td>NVDA</td>\n",
       "      <td>2025-05-29</td>\n",
       "      <td>semis not recovering despite new wave of ai sp...</td>\n",
       "      <td>-0.6887</td>\n",
       "      <td>negative</td>\n",
       "    </tr>\n",
       "    <tr>\n",
       "      <th>2</th>\n",
       "      <td>43</td>\n",
       "      <td>investing</td>\n",
       "      <td>NVDA</td>\n",
       "      <td>2025-05-27</td>\n",
       "      <td>nvidia earnings tomorrow the markets locomotiv...</td>\n",
       "      <td>0.7863</td>\n",
       "      <td>positive</td>\n",
       "    </tr>\n",
       "    <tr>\n",
       "      <th>3</th>\n",
       "      <td>122</td>\n",
       "      <td>investing</td>\n",
       "      <td>TSLA</td>\n",
       "      <td>2025-05-27</td>\n",
       "      <td>tsla why im still bullish despite the eps nose...</td>\n",
       "      <td>-0.7283</td>\n",
       "      <td>negative</td>\n",
       "    </tr>\n",
       "    <tr>\n",
       "      <th>4</th>\n",
       "      <td>26</td>\n",
       "      <td>investing</td>\n",
       "      <td>NVDA</td>\n",
       "      <td>2025-05-26</td>\n",
       "      <td>ive got called old fashion for investing in in...</td>\n",
       "      <td>0.7420</td>\n",
       "      <td>positive</td>\n",
       "    </tr>\n",
       "  </tbody>\n",
       "</table>\n",
       "</div>"
      ],
      "text/plain": [
       "   score  subreddit tickers_mentioned        date  \\\n",
       "0      0  investing              NVDA  2025-05-30   \n",
       "1      6  investing              NVDA  2025-05-29   \n",
       "2     43  investing              NVDA  2025-05-27   \n",
       "3    122  investing              TSLA  2025-05-27   \n",
       "4     26  investing              NVDA  2025-05-26   \n",
       "\n",
       "                                          clean_text  compound sentiment  \n",
       "0  sold hood and started positions in apple googl...    0.9289  positive  \n",
       "1  semis not recovering despite new wave of ai sp...   -0.6887  negative  \n",
       "2  nvidia earnings tomorrow the markets locomotiv...    0.7863  positive  \n",
       "3  tsla why im still bullish despite the eps nose...   -0.7283  negative  \n",
       "4  ive got called old fashion for investing in in...    0.7420  positive  "
      ]
     },
     "execution_count": 61,
     "metadata": {},
     "output_type": "execute_result"
    }
   ],
   "source": [
    "reddit.head()"
   ]
  },
  {
   "cell_type": "code",
   "execution_count": 64,
   "id": "dbbc1a0f-32d3-4740-97a7-4293fa46a7b3",
   "metadata": {},
   "outputs": [],
   "source": [
    "reddit = reddit[reddit['tickers_mentioned'] == 'TSLA']"
   ]
  },
  {
   "cell_type": "code",
   "execution_count": 67,
   "id": "7b0d59ae-5f6d-4550-98b7-7c299b591208",
   "metadata": {},
   "outputs": [],
   "source": [
    "reddit['date'] = pd.to_datetime(reddit['date'])"
   ]
  },
  {
   "cell_type": "code",
   "execution_count": 68,
   "id": "59ae6f71-e239-440f-87ec-89b79f94e2ac",
   "metadata": {},
   "outputs": [],
   "source": [
    "tesla = tesla.sort_values('Date')\n",
    "tesla['Date'] = tesla['Date'] - pd.Timedelta(days=1)"
   ]
  },
  {
   "cell_type": "code",
   "execution_count": 69,
   "id": "93988e7f-ecb5-4b7a-b054-86f4d5619b90",
   "metadata": {},
   "outputs": [],
   "source": [
    "merged_df = pd.merge(reddit, tesla, left_on='date', right_on='Date', how='inner')\n",
    "merged_df.drop('date', axis = 1, inplace = True)"
   ]
  },
  {
   "cell_type": "code",
   "execution_count": 70,
   "id": "75b4ce42-77dc-4729-9a87-c2462886a32e",
   "metadata": {},
   "outputs": [
    {
     "data": {
      "text/html": [
       "<div>\n",
       "<style scoped>\n",
       "    .dataframe tbody tr th:only-of-type {\n",
       "        vertical-align: middle;\n",
       "    }\n",
       "\n",
       "    .dataframe tbody tr th {\n",
       "        vertical-align: top;\n",
       "    }\n",
       "\n",
       "    .dataframe thead th {\n",
       "        text-align: right;\n",
       "    }\n",
       "</style>\n",
       "<table border=\"1\" class=\"dataframe\">\n",
       "  <thead>\n",
       "    <tr style=\"text-align: right;\">\n",
       "      <th></th>\n",
       "      <th>score</th>\n",
       "      <th>subreddit</th>\n",
       "      <th>tickers_mentioned</th>\n",
       "      <th>clean_text</th>\n",
       "      <th>compound</th>\n",
       "      <th>sentiment</th>\n",
       "      <th>Date</th>\n",
       "      <th>Open</th>\n",
       "      <th>High</th>\n",
       "      <th>Low</th>\n",
       "      <th>Close</th>\n",
       "      <th>Volume</th>\n",
       "    </tr>\n",
       "  </thead>\n",
       "  <tbody>\n",
       "    <tr>\n",
       "      <th>0</th>\n",
       "      <td>122</td>\n",
       "      <td>investing</td>\n",
       "      <td>TSLA</td>\n",
       "      <td>tsla why im still bullish despite the eps nose...</td>\n",
       "      <td>-0.7283</td>\n",
       "      <td>negative</td>\n",
       "      <td>2025-05-27</td>\n",
       "      <td>365.290009</td>\n",
       "      <td>367.709991</td>\n",
       "      <td>356.000000</td>\n",
       "      <td>358.429993</td>\n",
       "      <td>88545700</td>\n",
       "    </tr>\n",
       "    <tr>\n",
       "      <th>1</th>\n",
       "      <td>460</td>\n",
       "      <td>investing</td>\n",
       "      <td>TSLA</td>\n",
       "      <td>financial professionals mostly arent paid to c...</td>\n",
       "      <td>-0.9714</td>\n",
       "      <td>negative</td>\n",
       "      <td>2025-04-30</td>\n",
       "      <td>284.899994</td>\n",
       "      <td>294.779999</td>\n",
       "      <td>279.809998</td>\n",
       "      <td>287.209991</td>\n",
       "      <td>114454700</td>\n",
       "    </tr>\n",
       "    <tr>\n",
       "      <th>2</th>\n",
       "      <td>0</td>\n",
       "      <td>investing</td>\n",
       "      <td>TSLA</td>\n",
       "      <td>is pltr or tsla a better position for ai growt...</td>\n",
       "      <td>-0.9093</td>\n",
       "      <td>negative</td>\n",
       "      <td>2025-04-29</td>\n",
       "      <td>280.010010</td>\n",
       "      <td>290.869995</td>\n",
       "      <td>279.809998</td>\n",
       "      <td>280.519989</td>\n",
       "      <td>99659000</td>\n",
       "    </tr>\n",
       "    <tr>\n",
       "      <th>3</th>\n",
       "      <td>0</td>\n",
       "      <td>investing</td>\n",
       "      <td>TSLA</td>\n",
       "      <td>quarterly revenue of tesla since the following...</td>\n",
       "      <td>-0.5994</td>\n",
       "      <td>negative</td>\n",
       "      <td>2025-04-26</td>\n",
       "      <td>288.980011</td>\n",
       "      <td>294.859985</td>\n",
       "      <td>272.420013</td>\n",
       "      <td>285.880005</td>\n",
       "      <td>151731800</td>\n",
       "    </tr>\n",
       "    <tr>\n",
       "      <th>4</th>\n",
       "      <td>623</td>\n",
       "      <td>wallstreetbets</td>\n",
       "      <td>TSLA</td>\n",
       "      <td>how fucked am i me wanting to be part of tslas...</td>\n",
       "      <td>-0.6597</td>\n",
       "      <td>negative</td>\n",
       "      <td>2025-05-27</td>\n",
       "      <td>365.290009</td>\n",
       "      <td>367.709991</td>\n",
       "      <td>356.000000</td>\n",
       "      <td>358.429993</td>\n",
       "      <td>88545700</td>\n",
       "    </tr>\n",
       "  </tbody>\n",
       "</table>\n",
       "</div>"
      ],
      "text/plain": [
       "   score       subreddit tickers_mentioned  \\\n",
       "0    122       investing              TSLA   \n",
       "1    460       investing              TSLA   \n",
       "2      0       investing              TSLA   \n",
       "3      0       investing              TSLA   \n",
       "4    623  wallstreetbets              TSLA   \n",
       "\n",
       "                                          clean_text  compound sentiment  \\\n",
       "0  tsla why im still bullish despite the eps nose...   -0.7283  negative   \n",
       "1  financial professionals mostly arent paid to c...   -0.9714  negative   \n",
       "2  is pltr or tsla a better position for ai growt...   -0.9093  negative   \n",
       "3  quarterly revenue of tesla since the following...   -0.5994  negative   \n",
       "4  how fucked am i me wanting to be part of tslas...   -0.6597  negative   \n",
       "\n",
       "        Date        Open        High         Low       Close     Volume  \n",
       "0 2025-05-27  365.290009  367.709991  356.000000  358.429993   88545700  \n",
       "1 2025-04-30  284.899994  294.779999  279.809998  287.209991  114454700  \n",
       "2 2025-04-29  280.010010  290.869995  279.809998  280.519989   99659000  \n",
       "3 2025-04-26  288.980011  294.859985  272.420013  285.880005  151731800  \n",
       "4 2025-05-27  365.290009  367.709991  356.000000  358.429993   88545700  "
      ]
     },
     "execution_count": 70,
     "metadata": {},
     "output_type": "execute_result"
    }
   ],
   "source": [
    "merged_df.head()"
   ]
  },
  {
   "cell_type": "code",
   "execution_count": 73,
   "id": "514a5155-1f0e-4442-a8dd-1886b7fd57e2",
   "metadata": {},
   "outputs": [
    {
     "name": "stdout",
     "output_type": "stream",
     "text": [
      "<class 'pandas.core.frame.DataFrame'>\n",
      "RangeIndex: 21 entries, 0 to 20\n",
      "Data columns (total 12 columns):\n",
      " #   Column             Non-Null Count  Dtype         \n",
      "---  ------             --------------  -----         \n",
      " 0   score              21 non-null     int64         \n",
      " 1   subreddit          21 non-null     object        \n",
      " 2   tickers_mentioned  21 non-null     object        \n",
      " 3   clean_text         21 non-null     object        \n",
      " 4   compound           21 non-null     float64       \n",
      " 5   sentiment          21 non-null     object        \n",
      " 6   date               21 non-null     datetime64[ns]\n",
      " 7   open               21 non-null     float64       \n",
      " 8   high               21 non-null     float64       \n",
      " 9   low                21 non-null     float64       \n",
      " 10  close              21 non-null     float64       \n",
      " 11  volume             21 non-null     int64         \n",
      "dtypes: datetime64[ns](1), float64(5), int64(2), object(4)\n",
      "memory usage: 2.1+ KB\n"
     ]
    }
   ],
   "source": [
    "merged_df.info()"
   ]
  },
  {
   "cell_type": "code",
   "execution_count": 72,
   "id": "ca3587fd-4865-424f-b7a2-732d23a82f07",
   "metadata": {},
   "outputs": [],
   "source": [
    "merged_df.columns = merged_df.columns.str.lower()"
   ]
  },
  {
   "cell_type": "code",
   "execution_count": 75,
   "id": "e3cc3fd1-1976-4fcc-932f-c0f49fcfe0d1",
   "metadata": {},
   "outputs": [],
   "source": [
    "merged_df.to_csv(\"../../data/merged-data/tesla-merged.csv\")"
   ]
  },
  {
   "cell_type": "code",
   "execution_count": null,
   "id": "1232e1fb-42e4-4ab0-ac76-546ea7f7dc1f",
   "metadata": {},
   "outputs": [],
   "source": []
  }
 ],
 "metadata": {
  "kernelspec": {
   "display_name": "Python 3 (ipykernel)",
   "language": "python",
   "name": "python3"
  },
  "language_info": {
   "codemirror_mode": {
    "name": "ipython",
    "version": 3
   },
   "file_extension": ".py",
   "mimetype": "text/x-python",
   "name": "python",
   "nbconvert_exporter": "python",
   "pygments_lexer": "ipython3",
   "version": "3.12.9"
  }
 },
 "nbformat": 4,
 "nbformat_minor": 5
}
