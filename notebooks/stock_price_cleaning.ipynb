{
 "cells": [
  {
   "cell_type": "code",
   "execution_count": 1,
   "id": "0753c390-5512-45f5-80da-ec2df75ba67a",
   "metadata": {},
   "outputs": [],
   "source": [
    "import pandas as pd"
   ]
  },
  {
   "cell_type": "code",
   "execution_count": 13,
   "id": "92fcda8a-b0cb-4051-9322-09bf781169cc",
   "metadata": {},
   "outputs": [],
   "source": [
    "google = pd.read_csv(\"/Users/aryagupta/Desktop/investor-pulse/data/GOOGL_daily_2025.csv\")\n",
    "google = google.drop(0)"
   ]
  },
  {
   "cell_type": "code",
   "execution_count": 14,
   "id": "87da7ce3-1cde-4f50-973f-3e78115d4a0a",
   "metadata": {},
   "outputs": [
    {
     "data": {
      "text/html": [
       "<div>\n",
       "<style scoped>\n",
       "    .dataframe tbody tr th:only-of-type {\n",
       "        vertical-align: middle;\n",
       "    }\n",
       "\n",
       "    .dataframe tbody tr th {\n",
       "        vertical-align: top;\n",
       "    }\n",
       "\n",
       "    .dataframe thead th {\n",
       "        text-align: right;\n",
       "    }\n",
       "</style>\n",
       "<table border=\"1\" class=\"dataframe\">\n",
       "  <thead>\n",
       "    <tr style=\"text-align: right;\">\n",
       "      <th></th>\n",
       "      <th>Date</th>\n",
       "      <th>Open</th>\n",
       "      <th>High</th>\n",
       "      <th>Low</th>\n",
       "      <th>Close</th>\n",
       "      <th>Volume</th>\n",
       "    </tr>\n",
       "  </thead>\n",
       "  <tbody>\n",
       "    <tr>\n",
       "      <th>1</th>\n",
       "      <td>2025-01-02</td>\n",
       "      <td>190.43067970164262</td>\n",
       "      <td>191.7791328258186</td>\n",
       "      <td>187.2843094002135</td>\n",
       "      <td>189.2120819091797</td>\n",
       "      <td>20370800</td>\n",
       "    </tr>\n",
       "    <tr>\n",
       "      <th>2</th>\n",
       "      <td>2025-01-03</td>\n",
       "      <td>191.14985143368122</td>\n",
       "      <td>192.9877463613902</td>\n",
       "      <td>189.76145103861666</td>\n",
       "      <td>191.56936645507812</td>\n",
       "      <td>18596200</td>\n",
       "    </tr>\n",
       "    <tr>\n",
       "      <th>3</th>\n",
       "      <td>2025-01-06</td>\n",
       "      <td>193.75684931380115</td>\n",
       "      <td>197.99197728329852</td>\n",
       "      <td>193.6270092243641</td>\n",
       "      <td>196.64352416992188</td>\n",
       "      <td>29563600</td>\n",
       "    </tr>\n",
       "    <tr>\n",
       "      <th>4</th>\n",
       "      <td>2025-01-07</td>\n",
       "      <td>196.8832529983184</td>\n",
       "      <td>200.7687774852745</td>\n",
       "      <td>194.37614589069548</td>\n",
       "      <td>195.26512145996094</td>\n",
       "      <td>26487200</td>\n",
       "    </tr>\n",
       "    <tr>\n",
       "      <th>5</th>\n",
       "      <td>2025-01-08</td>\n",
       "      <td>192.3484808074723</td>\n",
       "      <td>196.06418741382137</td>\n",
       "      <td>192.1586969389352</td>\n",
       "      <td>193.7268829345703</td>\n",
       "      <td>24864800</td>\n",
       "    </tr>\n",
       "  </tbody>\n",
       "</table>\n",
       "</div>"
      ],
      "text/plain": [
       "         Date                Open                High                 Low  \\\n",
       "1  2025-01-02  190.43067970164262   191.7791328258186   187.2843094002135   \n",
       "2  2025-01-03  191.14985143368122   192.9877463613902  189.76145103861666   \n",
       "3  2025-01-06  193.75684931380115  197.99197728329852   193.6270092243641   \n",
       "4  2025-01-07   196.8832529983184   200.7687774852745  194.37614589069548   \n",
       "5  2025-01-08   192.3484808074723  196.06418741382137   192.1586969389352   \n",
       "\n",
       "                Close    Volume  \n",
       "1   189.2120819091797  20370800  \n",
       "2  191.56936645507812  18596200  \n",
       "3  196.64352416992188  29563600  \n",
       "4  195.26512145996094  26487200  \n",
       "5   193.7268829345703  24864800  "
      ]
     },
     "execution_count": 14,
     "metadata": {},
     "output_type": "execute_result"
    }
   ],
   "source": [
    "google.head()"
   ]
  },
  {
   "cell_type": "code",
   "execution_count": 15,
   "id": "8ed4d38a-553a-41e3-96b9-6014b2ee9241",
   "metadata": {},
   "outputs": [
    {
     "data": {
      "text/plain": [
       "Date      0\n",
       "Open      0\n",
       "High      0\n",
       "Low       0\n",
       "Close     0\n",
       "Volume    0\n",
       "dtype: int64"
      ]
     },
     "execution_count": 15,
     "metadata": {},
     "output_type": "execute_result"
    }
   ],
   "source": [
    "google.isna().sum()"
   ]
  },
  {
   "cell_type": "code",
   "execution_count": null,
   "id": "0b98b49d-ad4e-42c7-b0e1-bf17194aaed0",
   "metadata": {},
   "outputs": [],
   "source": []
  }
 ],
 "metadata": {
  "kernelspec": {
   "display_name": "Python 3 (ipykernel)",
   "language": "python",
   "name": "python3"
  },
  "language_info": {
   "codemirror_mode": {
    "name": "ipython",
    "version": 3
   },
   "file_extension": ".py",
   "mimetype": "text/x-python",
   "name": "python",
   "nbconvert_exporter": "python",
   "pygments_lexer": "ipython3",
   "version": "3.12.9"
  }
 },
 "nbformat": 4,
 "nbformat_minor": 5
}
