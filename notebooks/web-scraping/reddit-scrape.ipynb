{
 "cells": [
  {
   "cell_type": "code",
   "execution_count": 7,
   "id": "a34c4366-f52e-4b59-9975-d62a368d38cb",
   "metadata": {},
   "outputs": [],
   "source": [
    "import praw\n",
    "import pandas as pd\n",
    "import datetime\n",
    "import re"
   ]
  },
  {
   "cell_type": "code",
   "execution_count": 12,
   "id": "b4a79e1a-9276-4859-ba7b-4b039a54498b",
   "metadata": {},
   "outputs": [
    {
     "data": {
      "text/plain": [
       "True"
      ]
     },
     "execution_count": 12,
     "metadata": {},
     "output_type": "execute_result"
    }
   ],
   "source": [
    "from dotenv import load_dotenv\n",
    "load_dotenv()"
   ]
  },
  {
   "cell_type": "code",
   "execution_count": 15,
   "id": "f790be08-5965-4b2d-8814-4ff4edd1d76d",
   "metadata": {},
   "outputs": [],
   "source": [
    "import os\n",
    "REDDIT_CLIENT_ID = os.getenv('REDDIT_CLIENT_ID')\n",
    "REDDIT_CLIENT_SECRET = os.getenv('REDDIT_CLIENT_SECRET')\n",
    "REDDIT_USER_AGENT = os.getenv('REDDIT_USER_AGENT')"
   ]
  },
  {
   "cell_type": "code",
   "execution_count": 5,
   "id": "97526f6a-10cf-4b76-b0bc-edb1a586fb57",
   "metadata": {},
   "outputs": [
    {
     "name": "stdout",
     "output_type": "stream",
     "text": [
      "Authenticated as: None\n"
     ]
    }
   ],
   "source": [
    "reddit = praw.Reddit(\n",
    "    client_id='zYdDXB3Ntg3zWzGSZVwNCQ',\n",
    "    client_secret='JNU1Wx-n9Xy9tZfviPsb_gSA0lB-Gg',\n",
    "    user_agent='script:reddit_stock_scraper:v1.0 (by /u/AmoebaOld7828)'\n",
    ")\n",
    "\n",
    "try:\n",
    "    print(\"Authenticated as:\", reddit.user.me())\n",
    "except Exception as e:\n",
    "    print(\"Failed to connect:\", e)"
   ]
  },
  {
   "cell_type": "code",
   "execution_count": 6,
   "id": "76b15387-11d7-4730-b25c-7127bb859cea",
   "metadata": {},
   "outputs": [
    {
     "name": "stdout",
     "output_type": "stream",
     "text": [
      "wallstreetbets: Tsla puts yolo (Score: 78, Comments: 58)\n",
      "wallstreetbets: Early 2020 - TSLA Rally (Score: 9, Comments: 15)\n",
      "wallstreetbets: Saw HIMS surge and said fuck it puts it is and a NVDA bag too (Score: 34, Comments: 14)\n",
      "wallstreetbets: TSLA target 400$ (Score: 0, Comments: 57)\n",
      "wallstreetbets: £20k in one month NVDA calls (Score: 44, Comments: 6)\n",
      "wallstreetbets: YOLO nvda calls (Score: 145, Comments: 155)\n"
     ]
    }
   ],
   "source": [
    "subreddits = ['investing', 'wallstreetbets', 'stocks']\n",
    "keywords = ['TSLA', 'AAPL', 'NVDA', 'AMZN', 'MSFT']\n",
    "\n",
    "for subreddit_name in subreddits:\n",
    "    subreddit = reddit.subreddit(subreddit_name)\n",
    "    for post in subreddit.new(limit=100):\n",
    "        title = post.title\n",
    "        if any(keyword in title.upper() for keyword in keywords):\n",
    "            print(f\"{subreddit_name}: {title} (Score: {post.score}, Comments: {post.num_comments})\")"
   ]
  },
  {
   "cell_type": "code",
   "execution_count": 8,
   "id": "c2a28dc0-3d26-47bd-ae58-1ea29291b388",
   "metadata": {},
   "outputs": [
    {
     "name": "stdout",
     "output_type": "stream",
     "text": [
      "Scraping r/investing...\n"
     ]
    },
    {
     "name": "stderr",
     "output_type": "stream",
     "text": [
      "/var/folders/vr/nc9jvld12q115x_g_114k8g40000gn/T/ipykernel_13353/3263431535.py:38: DeprecationWarning: datetime.datetime.utcfromtimestamp() is deprecated and scheduled for removal in a future version. Use timezone-aware objects to represent datetimes in UTC: datetime.datetime.fromtimestamp(timestamp, datetime.UTC).\n",
      "  'created_utc': datetime.datetime.utcfromtimestamp(post.created_utc),\n"
     ]
    },
    {
     "name": "stdout",
     "output_type": "stream",
     "text": [
      "Scraping r/wallstreetbets...\n",
      "Scraping r/stocks...\n"
     ]
    }
   ],
   "source": [
    "# CONFIGURATION\n",
    "REDDIT_CLIENT_ID = REDDIT_CLIENT_ID\n",
    "REDDIT_CLIENT_SECRET = REDDIT_CLIENT_SECRET\n",
    "REDDIT_USER_AGENT = REDDIT_USER_AGENT\n",
    "SUBREDDITS = ['investing', 'wallstreetbets', 'stocks']\n",
    "TICKERS = ['TSLA', 'AAPL', 'MSFT', 'NVDA', 'AMZN']\n",
    "POST_LIMIT = 1000  # per subreddit\n",
    "OUTPUT_FILE = 'reddit_posts.csv'\n",
    "# -----------------------------------\n",
    "\n",
    "reddit = praw.Reddit(client_id=REDDIT_CLIENT_ID,\n",
    "                     client_secret=REDDIT_CLIENT_SECRET,\n",
    "                     user_agent=REDDIT_USER_AGENT)\n",
    "\n",
    "def extract_tickers(text):\n",
    "    found = []\n",
    "    for ticker in TICKERS:\n",
    "        if re.search(r'\\b' + re.escape(ticker) + r'\\b', text.upper()):\n",
    "            found.append(ticker)\n",
    "    return found\n",
    "\n",
    "# data in list\n",
    "all_posts = []\n",
    "\n",
    "for sub_name in SUBREDDITS:\n",
    "    print(f\"Scraping r/{sub_name}...\")\n",
    "    subreddit = reddit.subreddit(sub_name)\n",
    "    for post in subreddit.new(limit=POST_LIMIT):\n",
    "        combined_text = (post.title + ' ' + (post.selftext or '')).upper()\n",
    "        tickers_found = extract_tickers(combined_text)\n",
    "        if not tickers_found:\n",
    "            continue  # Skip if no relevant ticker\n",
    "\n",
    "        all_posts.append({\n",
    "            'title': post.title,\n",
    "            'selftext': post.selftext,\n",
    "            'author': str(post.author),\n",
    "            'created_utc': datetime.datetime.utcfromtimestamp(post.created_utc),\n",
    "            'score': post.score,\n",
    "            'subreddit': sub_name,\n",
    "            'tickers_mentioned': ','.join(tickers_found)\n",
    "        })"
   ]
  },
  {
   "cell_type": "code",
   "execution_count": 16,
   "id": "0d2a76ca-75b6-4d1f-b5ee-160cd2dea921",
   "metadata": {},
   "outputs": [
    {
     "name": "stdout",
     "output_type": "stream",
     "text": [
      "\n",
      " Saved 182 posts to reddit_posts.csv\n"
     ]
    }
   ],
   "source": [
    "# Convert to DataFrame\n",
    "df = pd.DataFrame(all_posts)\n",
    "df.to_csv(OUTPUT_FILE, index=False)\n",
    "print(f\"\\n Saved {len(df)} posts to {OUTPUT_FILE}\")"
   ]
  },
  {
   "cell_type": "code",
   "execution_count": 17,
   "id": "24aaa8ea-708e-4baf-b0e1-c9fb319b1318",
   "metadata": {},
   "outputs": [],
   "source": [
    "data = pd.read_csv(\"reddit_posts.csv\")"
   ]
  },
  {
   "cell_type": "code",
   "execution_count": 18,
   "id": "8d02d7f9-969d-413e-af3a-08d673172285",
   "metadata": {},
   "outputs": [
    {
     "data": {
      "text/html": [
       "<div>\n",
       "<style scoped>\n",
       "    .dataframe tbody tr th:only-of-type {\n",
       "        vertical-align: middle;\n",
       "    }\n",
       "\n",
       "    .dataframe tbody tr th {\n",
       "        vertical-align: top;\n",
       "    }\n",
       "\n",
       "    .dataframe thead th {\n",
       "        text-align: right;\n",
       "    }\n",
       "</style>\n",
       "<table border=\"1\" class=\"dataframe\">\n",
       "  <thead>\n",
       "    <tr style=\"text-align: right;\">\n",
       "      <th></th>\n",
       "      <th>title</th>\n",
       "      <th>selftext</th>\n",
       "      <th>author</th>\n",
       "      <th>created_utc</th>\n",
       "      <th>score</th>\n",
       "      <th>subreddit</th>\n",
       "      <th>tickers_mentioned</th>\n",
       "    </tr>\n",
       "  </thead>\n",
       "  <tbody>\n",
       "    <tr>\n",
       "      <th>0</th>\n",
       "      <td>Sold Hood and started positions in Apple, Goog...</td>\n",
       "      <td>Recently I sold all my Hood shares (I got 4300...</td>\n",
       "      <td>coopermug</td>\n",
       "      <td>2025-05-30 01:27:26</td>\n",
       "      <td>0</td>\n",
       "      <td>investing</td>\n",
       "      <td>NVDA</td>\n",
       "    </tr>\n",
       "    <tr>\n",
       "      <th>1</th>\n",
       "      <td>Semis not recovering despite new wave of AI sp...</td>\n",
       "      <td>Looking at how SMH did recently I can't help t...</td>\n",
       "      <td>SurveyIllustrious738</td>\n",
       "      <td>2025-05-29 07:45:20</td>\n",
       "      <td>6</td>\n",
       "      <td>investing</td>\n",
       "      <td>NVDA</td>\n",
       "    </tr>\n",
       "    <tr>\n",
       "      <th>2</th>\n",
       "      <td>NVIDIA Earnings Tomorrow – The Market’s Locomo...</td>\n",
       "      <td>NVIDIA is reporting earnings tomorrow, and hon...</td>\n",
       "      <td>ZeroWallStreet</td>\n",
       "      <td>2025-05-27 15:15:46</td>\n",
       "      <td>43</td>\n",
       "      <td>investing</td>\n",
       "      <td>NVDA</td>\n",
       "    </tr>\n",
       "    <tr>\n",
       "      <th>3</th>\n",
       "      <td>TSLA: Why I'm still bullish despite the EPS no...</td>\n",
       "      <td>Been holding TSLA since 2021 and just watched ...</td>\n",
       "      <td>faharxpg</td>\n",
       "      <td>2025-05-27 09:58:01</td>\n",
       "      <td>122</td>\n",
       "      <td>investing</td>\n",
       "      <td>TSLA</td>\n",
       "    </tr>\n",
       "    <tr>\n",
       "      <th>4</th>\n",
       "      <td>I've got called old fashion for investing in i...</td>\n",
       "      <td>My mate told me I'm old fashioned for investin...</td>\n",
       "      <td>moodyhighway</td>\n",
       "      <td>2025-05-26 17:16:57</td>\n",
       "      <td>26</td>\n",
       "      <td>investing</td>\n",
       "      <td>NVDA</td>\n",
       "    </tr>\n",
       "    <tr>\n",
       "      <th>...</th>\n",
       "      <td>...</td>\n",
       "      <td>...</td>\n",
       "      <td>...</td>\n",
       "      <td>...</td>\n",
       "      <td>...</td>\n",
       "      <td>...</td>\n",
       "      <td>...</td>\n",
       "    </tr>\n",
       "    <tr>\n",
       "      <th>177</th>\n",
       "      <td>Waiting for the day AMZN and GOOGL erupt so I ...</td>\n",
       "      <td>I’ll wait two years for them to be in their 30...</td>\n",
       "      <td>Virtual-Tonight-2444</td>\n",
       "      <td>2025-05-01 18:24:39</td>\n",
       "      <td>0</td>\n",
       "      <td>stocks</td>\n",
       "      <td>AMZN</td>\n",
       "    </tr>\n",
       "    <tr>\n",
       "      <th>178</th>\n",
       "      <td>(05/1) Interesting Stocks Today - Unemployment...</td>\n",
       "      <td>Hi! I am an ex-prop shop equity trader. This i...</td>\n",
       "      <td>WinningWatchlist</td>\n",
       "      <td>2025-05-01 13:08:57</td>\n",
       "      <td>13</td>\n",
       "      <td>stocks</td>\n",
       "      <td>TSLA,AAPL,MSFT,NVDA,AMZN</td>\n",
       "    </tr>\n",
       "    <tr>\n",
       "      <th>179</th>\n",
       "      <td>Inheriting a small fortune, considering how to...</td>\n",
       "      <td>This is probably an extremely tired topic, but...</td>\n",
       "      <td>ishouldgooutmore</td>\n",
       "      <td>2025-05-01 06:38:50</td>\n",
       "      <td>1</td>\n",
       "      <td>stocks</td>\n",
       "      <td>MSFT,NVDA,AMZN</td>\n",
       "    </tr>\n",
       "    <tr>\n",
       "      <th>180</th>\n",
       "      <td>How can I lock in profits on a short put as th...</td>\n",
       "      <td>I sold a put option on MSFT with a $435 strike...</td>\n",
       "      <td>Bright_Office_9792</td>\n",
       "      <td>2025-04-30 22:23:05</td>\n",
       "      <td>5</td>\n",
       "      <td>stocks</td>\n",
       "      <td>MSFT</td>\n",
       "    </tr>\n",
       "    <tr>\n",
       "      <th>181</th>\n",
       "      <td>Microsoft shares jump on earnings, revenue beat</td>\n",
       "      <td>Microsoft shares rose more than 6% in extended...</td>\n",
       "      <td>Puginator</td>\n",
       "      <td>2025-04-30 20:08:32</td>\n",
       "      <td>329</td>\n",
       "      <td>stocks</td>\n",
       "      <td>MSFT</td>\n",
       "    </tr>\n",
       "  </tbody>\n",
       "</table>\n",
       "<p>182 rows × 7 columns</p>\n",
       "</div>"
      ],
      "text/plain": [
       "                                                 title  \\\n",
       "0    Sold Hood and started positions in Apple, Goog...   \n",
       "1    Semis not recovering despite new wave of AI sp...   \n",
       "2    NVIDIA Earnings Tomorrow – The Market’s Locomo...   \n",
       "3    TSLA: Why I'm still bullish despite the EPS no...   \n",
       "4    I've got called old fashion for investing in i...   \n",
       "..                                                 ...   \n",
       "177  Waiting for the day AMZN and GOOGL erupt so I ...   \n",
       "178  (05/1) Interesting Stocks Today - Unemployment...   \n",
       "179  Inheriting a small fortune, considering how to...   \n",
       "180  How can I lock in profits on a short put as th...   \n",
       "181    Microsoft shares jump on earnings, revenue beat   \n",
       "\n",
       "                                              selftext                author  \\\n",
       "0    Recently I sold all my Hood shares (I got 4300...             coopermug   \n",
       "1    Looking at how SMH did recently I can't help t...  SurveyIllustrious738   \n",
       "2    NVIDIA is reporting earnings tomorrow, and hon...        ZeroWallStreet   \n",
       "3    Been holding TSLA since 2021 and just watched ...              faharxpg   \n",
       "4    My mate told me I'm old fashioned for investin...          moodyhighway   \n",
       "..                                                 ...                   ...   \n",
       "177  I’ll wait two years for them to be in their 30...  Virtual-Tonight-2444   \n",
       "178  Hi! I am an ex-prop shop equity trader. This i...      WinningWatchlist   \n",
       "179  This is probably an extremely tired topic, but...      ishouldgooutmore   \n",
       "180  I sold a put option on MSFT with a $435 strike...    Bright_Office_9792   \n",
       "181  Microsoft shares rose more than 6% in extended...             Puginator   \n",
       "\n",
       "             created_utc  score  subreddit         tickers_mentioned  \n",
       "0    2025-05-30 01:27:26      0  investing                      NVDA  \n",
       "1    2025-05-29 07:45:20      6  investing                      NVDA  \n",
       "2    2025-05-27 15:15:46     43  investing                      NVDA  \n",
       "3    2025-05-27 09:58:01    122  investing                      TSLA  \n",
       "4    2025-05-26 17:16:57     26  investing                      NVDA  \n",
       "..                   ...    ...        ...                       ...  \n",
       "177  2025-05-01 18:24:39      0     stocks                      AMZN  \n",
       "178  2025-05-01 13:08:57     13     stocks  TSLA,AAPL,MSFT,NVDA,AMZN  \n",
       "179  2025-05-01 06:38:50      1     stocks            MSFT,NVDA,AMZN  \n",
       "180  2025-04-30 22:23:05      5     stocks                      MSFT  \n",
       "181  2025-04-30 20:08:32    329     stocks                      MSFT  \n",
       "\n",
       "[182 rows x 7 columns]"
      ]
     },
     "execution_count": 18,
     "metadata": {},
     "output_type": "execute_result"
    }
   ],
   "source": [
    "data"
   ]
  },
  {
   "cell_type": "code",
   "execution_count": null,
   "id": "69981af3-e114-469b-b801-05c50e20e5e0",
   "metadata": {},
   "outputs": [],
   "source": []
  }
 ],
 "metadata": {
  "kernelspec": {
   "display_name": "Python 3 (ipykernel)",
   "language": "python",
   "name": "python3"
  },
  "language_info": {
   "codemirror_mode": {
    "name": "ipython",
    "version": 3
   },
   "file_extension": ".py",
   "mimetype": "text/x-python",
   "name": "python",
   "nbconvert_exporter": "python",
   "pygments_lexer": "ipython3",
   "version": "3.12.9"
  }
 },
 "nbformat": 4,
 "nbformat_minor": 5
}
