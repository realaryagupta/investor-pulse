{
 "cells": [
  {
   "cell_type": "code",
   "execution_count": 8,
   "id": "5541d351-b937-45b4-969a-3defa86d53bc",
   "metadata": {},
   "outputs": [],
   "source": [
    "import yfinance as yf\n",
    "import pandas as pd\n",
    "import os"
   ]
  },
  {
   "cell_type": "code",
   "execution_count": 10,
   "id": "ff4ee409-5560-4cc5-a8f9-3e2cf42d062f",
   "metadata": {},
   "outputs": [
    {
     "name": "stderr",
     "output_type": "stream",
     "text": [
      "[*********************100%***********************]  1 of 1 completed"
     ]
    },
    {
     "name": "stdout",
     "output_type": "stream",
     "text": [
      "currently downloading NVDA\n",
      "currently downloading AAPL\n"
     ]
    },
    {
     "name": "stderr",
     "output_type": "stream",
     "text": [
      "\n",
      "[*********************100%***********************]  1 of 1 completed\n"
     ]
    },
    {
     "name": "stdout",
     "output_type": "stream",
     "text": [
      "currently downloading MSFT\n"
     ]
    },
    {
     "name": "stderr",
     "output_type": "stream",
     "text": [
      "[*********************100%***********************]  1 of 1 completed\n"
     ]
    },
    {
     "name": "stdout",
     "output_type": "stream",
     "text": [
      "currently downloading GOOGL\n"
     ]
    },
    {
     "name": "stderr",
     "output_type": "stream",
     "text": [
      "[*********************100%***********************]  1 of 1 completed\n"
     ]
    },
    {
     "name": "stdout",
     "output_type": "stream",
     "text": [
      "currently downloading AMZN\n"
     ]
    },
    {
     "name": "stderr",
     "output_type": "stream",
     "text": [
      "[*********************100%***********************]  1 of 1 completed\n"
     ]
    }
   ],
   "source": [
    "# Download and save all tickers' data\n",
    "tickers = ['NVDA', 'AAPL', 'MSFT', 'GOOGL', 'AMZN']\n",
    "start_date = '2025-01-01'\n",
    "end_date = '2025-06-01'\n",
    "output_dir = '../../data/scraped-data'\n",
    "os.makedirs(output_dir, exist_ok=True)\n",
    "stock_data = {}\n",
    "\n",
    "for ticker in tickers:\n",
    "    print(f\"currently downloading {ticker}\")\n",
    "    data = yf.download(ticker, start=start_date, end=end_date)\n",
    "    data = data[['Open', 'High', 'Low', 'Close', 'Volume']]\n",
    "    data.reset_index(inplace=True)\n",
    "    # Convert columns to float if they exist\n",
    "    for col in ['Open', 'High', 'Low', 'Close', 'Volume']:\n",
    "        if col in data.columns:\n",
    "            data[col] = data[col].astype(float)\n",
    "    stock_data[ticker] = data\n",
    "    data.to_csv(f\"{output_dir}/{ticker}_daily_2025.csv\", index=False)"
   ]
  },
  {
   "cell_type": "code",
   "execution_count": null,
   "id": "f9b1f08f-58b9-4a5d-be90-ec58bc037a77",
   "metadata": {},
   "outputs": [],
   "source": []
  }
 ],
 "metadata": {
  "kernelspec": {
   "display_name": "Python 3 (ipykernel)",
   "language": "python",
   "name": "python3"
  },
  "language_info": {
   "codemirror_mode": {
    "name": "ipython",
    "version": 3
   },
   "file_extension": ".py",
   "mimetype": "text/x-python",
   "name": "python",
   "nbconvert_exporter": "python",
   "pygments_lexer": "ipython3",
   "version": "3.12.9"
  }
 },
 "nbformat": 4,
 "nbformat_minor": 5
}
